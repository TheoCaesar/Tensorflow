{
 "cells": [
  {
   "cell_type": "code",
   "execution_count": 5,
   "id": "0b03d008",
   "metadata": {},
   "outputs": [],
   "source": [
    "import tensorflow as tf\n",
    "from tensorflow import keras\n",
    "\n",
    "#Helper libraries\n",
    "import numpy as np\n",
    "import matplotlib.pyplot as plt"
   ]
  },
  {
   "cell_type": "code",
   "execution_count": 29,
   "id": "b6b88ff1",
   "metadata": {},
   "outputs": [
    {
     "name": "stdout",
     "output_type": "stream",
     "text": [
      "Downloading data from https://storage.googleapis.com/tensorflow/tf-keras-datasets/train-labels-idx1-ubyte.gz\n",
      "29515/29515 [==============================] - 0s 4us/step\n",
      "Downloading data from https://storage.googleapis.com/tensorflow/tf-keras-datasets/train-images-idx3-ubyte.gz\n",
      "26421880/26421880 [==============================] - 32s 1us/step\n",
      "Downloading data from https://storage.googleapis.com/tensorflow/tf-keras-datasets/t10k-labels-idx1-ubyte.gz\n",
      "5148/5148 [==============================] - 0s 0s/step\n",
      "Downloading data from https://storage.googleapis.com/tensorflow/tf-keras-datasets/t10k-images-idx3-ubyte.gz\n",
      "4422102/4422102 [==============================] - 5s 1us/step\n",
      "(60000, 28, 28)\n",
      "(10000, 28, 28)\n"
     ]
    }
   ],
   "source": [
    "#our dataset is builtin training model of some sort\n",
    "\n",
    "fashionds = keras.datasets.fashion_mnist  #downloads file -- needs internet\n",
    "(training_imgs, training_lbls), (testing_imgs, testing_lbls) = fashionds.load_data() #splits dataset into training and testing tuples\n",
    "print(training_imgs.shape)\n",
    "print(testing_imgs.shape)"
   ]
  },
  {
   "cell_type": "markdown",
   "id": "510021da",
   "metadata": {},
   "source": [
    "so we happen to have 60,000 images that have 28 by 28  pixels. i.e. 60,000 images with 784 pixels in total"
   ]
  },
  {
   "cell_type": "code",
   "execution_count": 30,
   "id": "eeed92f3",
   "metadata": {},
   "outputs": [
    {
     "data": {
      "text/plain": [
       "194"
      ]
     },
     "execution_count": 30,
     "metadata": {},
     "output_type": "execute_result"
    }
   ],
   "source": [
    "training_imgs[0,23,23] #remember pixels are vals btn 0-255; this line should show you representation of one pixel"
   ]
  },
  {
   "cell_type": "code",
   "execution_count": 31,
   "id": "bedb833a",
   "metadata": {},
   "outputs": [
    {
     "data": {
      "text/plain": [
       "array([[  0,   0,   0,   0,   0,   0,   0,  11, 142, 200, 106,   0,   0,\n",
       "          0,   0,   0,   0,   0,  85, 185, 112,   0,   0,   0,   0,   0,\n",
       "          0,   0],\n",
       "       [  0,   0,   0,   0,   0,   0, 152, 214, 217, 194, 236, 216, 187,\n",
       "        149, 135, 153, 211, 217, 231, 205, 217, 188,  34,   0,   0,   0,\n",
       "          0,   0],\n",
       "       [  0,   0,   0,   0,   0,  66, 185, 166, 180, 181, 190, 211, 221,\n",
       "        197, 146, 198, 206, 191, 168, 190, 172, 188, 175,   0,   0,   0,\n",
       "          0,   0],\n",
       "       [  0,   0,   0,   0,   0, 135, 153, 160, 175, 180, 170, 186, 187,\n",
       "        190, 188, 190, 187, 174, 195, 185, 174, 161, 175,  59,   0,   0,\n",
       "          0,   0],\n",
       "       [  0,   0,   0,   0,   0, 161, 147, 160, 170, 178, 177, 180, 168,\n",
       "        173, 174, 171, 185, 184, 185, 172, 171, 164, 174, 120,   0,   0,\n",
       "          0,   0],\n",
       "       [  0,   0,   0,   0,   2, 175, 146, 145, 168, 178, 181, 185, 180,\n",
       "        184, 178, 179, 187, 191, 193, 190, 181, 171, 172, 158,   0,   0,\n",
       "          0,   0],\n",
       "       [  0,   0,   0,   0,  35, 177, 155, 140, 151, 172, 191, 187, 186,\n",
       "        187, 186, 187, 182, 191, 194, 188, 180, 161, 161, 185,   0,   0,\n",
       "          0,   0],\n",
       "       [  0,   0,   0,   0,  59, 170, 153, 141, 120, 154, 160, 161, 172,\n",
       "        168, 166, 161, 165, 172, 170, 164, 139, 149, 162, 166,  21,   0,\n",
       "          0,   0],\n",
       "       [  0,   0,   0,   0,  79, 145, 160, 214, 123, 128, 153, 160, 164,\n",
       "        158, 157, 154, 155, 170, 165, 141, 195, 193, 152, 166,  61,   0,\n",
       "          0,   0],\n",
       "       [  0,   0,   0,   0, 100, 157, 225, 245, 175, 113, 174, 158, 158,\n",
       "        160, 155, 160, 164, 178, 188, 135, 185, 240, 201, 172, 108,   0,\n",
       "          0,   0],\n",
       "       [  0,   0,   0,   0,   0,  31, 174,  28, 126, 153, 166, 152, 158,\n",
       "        158, 160, 161, 157, 168, 191, 188,  18, 132, 159,   7,   0,   0,\n",
       "          0,   0],\n",
       "       [  0,   0,   0,   0,   0,   0,   0,   0,  82, 187, 159, 153, 157,\n",
       "        158, 162, 164, 164, 154, 187, 190,   0,   0,   0,   0,   0,   0,\n",
       "          0,   0],\n",
       "       [  0,   0,   0,   0,   1,   3,   5,   0,  37, 175, 158, 155, 162,\n",
       "        158, 160, 162, 165, 153, 177, 205,   0,   0,   3,   3,   0,   0,\n",
       "          0,   0],\n",
       "       [  0,   0,   0,   0,   0,   0,   1,   0,  25, 175, 152, 160, 158,\n",
       "        161, 160, 164, 164, 161, 166, 200,   0,   0,   1,   0,   0,   0,\n",
       "          0,   0],\n",
       "       [  0,   0,   0,   0,   0,   0,   4,   0,  30, 171, 147, 164, 155,\n",
       "        165, 161, 165, 162, 170, 164, 162,   0,   0,   2,   0,   0,   0,\n",
       "          0,   0],\n",
       "       [  0,   0,   0,   0,   0,   0,   4,   0,  57, 166, 155, 164, 166,\n",
       "        161, 161, 164, 167, 165, 165, 162,  28,   0,   3,   0,   0,   0,\n",
       "          0,   0],\n",
       "       [  0,   0,   0,   0,   0,   0,   3,   0, 114, 161, 161, 166, 159,\n",
       "        168, 161, 161, 172, 162, 165, 171,  50,   0,   5,   0,   0,   0,\n",
       "          0,   0],\n",
       "       [  0,   0,   0,   0,   0,   0,   1,   0, 149, 157, 167, 172, 159,\n",
       "        172, 164, 161, 172, 170, 160, 171,  89,   0,   4,   0,   0,   0,\n",
       "          0,   0],\n",
       "       [  0,   0,   0,   0,   0,   2,   0,   4, 171, 164, 166, 173, 159,\n",
       "        179, 166, 160, 174, 167, 162, 166, 128,   0,   2,   0,   0,   0,\n",
       "          0,   0],\n",
       "       [  0,   0,   0,   0,   0,   3,   0,  18, 152, 173, 160, 179, 154,\n",
       "        181, 166, 164, 175, 170, 166, 170, 164,   0,   0,   1,   0,   0,\n",
       "          0,   0],\n",
       "       [  0,   0,   0,   0,   0,   4,   0,  47, 165, 172, 167, 185, 153,\n",
       "        187, 173, 165, 174, 179, 166, 166, 158,   5,   0,   3,   0,   0,\n",
       "          0,   0],\n",
       "       [  0,   0,   0,   0,   0,   4,   0,  87, 180, 162, 179, 179, 157,\n",
       "        191, 182, 165, 168, 190, 173, 165, 166,  20,   0,   4,   0,   0,\n",
       "          0,   0],\n",
       "       [  0,   0,   0,   0,   0,   4,   0, 105, 187, 157, 194, 175, 161,\n",
       "        190, 184, 170, 158, 205, 177, 168, 171,  44,   0,   4,   0,   0,\n",
       "          0,   0],\n",
       "       [  0,   0,   0,   0,   0,   5,   0, 138, 181, 158, 205, 160, 167,\n",
       "        190, 198, 167, 152, 218, 186, 170, 172,  57,   0,   5,   0,   0,\n",
       "          0,   0],\n",
       "       [  0,   0,   0,   0,   0,   5,   0, 135, 174, 167, 199, 155, 166,\n",
       "        201, 219, 165, 158, 218, 188, 167, 175,  56,   0,   7,   0,   0,\n",
       "          0,   0],\n",
       "       [  0,   0,   0,   0,   0,   5,   0, 129, 171, 172, 177, 153, 159,\n",
       "        206, 216, 148, 157, 206, 190, 165, 175,  48,   0,   5,   0,   0,\n",
       "          0,   0],\n",
       "       [  0,   0,   0,   0,   0,   5,   0, 167, 187, 182, 198, 194, 200,\n",
       "        226, 240, 184, 206, 255, 197, 178, 179,  42,   0,   5,   0,   0,\n",
       "          0,   0],\n",
       "       [  0,   0,   0,   0,   0,   3,   0, 115, 135, 113, 106,  85,  82,\n",
       "        108, 133,  83,  90, 121, 120, 110, 158,  18,   0,   3,   0,   0,\n",
       "          0,   0]], dtype=uint8)"
      ]
     },
     "execution_count": 31,
     "metadata": {},
     "output_type": "execute_result"
    }
   ],
   "source": [
    "training_imgs[10] #remember pixels are vals btn 0-255; this line should show you representation of one pixel"
   ]
  },
  {
   "cell_type": "code",
   "execution_count": 32,
   "id": "dd571719",
   "metadata": {},
   "outputs": [],
   "source": [
    "class_names = ['T-shirt/top', 'Trouser', 'Pullover', 'Dress', 'Coat', 'Sandal', 'Shirt', 'Sneaker', 'Bag', 'Ankleboot']"
   ]
  },
  {
   "cell_type": "code",
   "execution_count": 34,
   "id": "669486c4",
   "metadata": {},
   "outputs": [
    {
     "data": {
      "image/png": "[encoded data removed]",
      "text/plain": [
       "<Figure size 432x288 with 2 Axes>"
      ]
     },
     "metadata": {
      "needs_background": "light"
     },
     "output_type": "display_data"
    }
   ],
   "source": [
    "#to show you what the images look like\n",
    "plt.figure()\n",
    "plt.imshow(training_imgs[6])\n",
    "plt.colorbar()\n",
    "plt.grid(False)\n",
    "plt.show()"
   ]
  },
  {
   "cell_type": "markdown",
   "id": "7b16d901",
   "metadata": {},
   "source": [
    "### Data Preprocessing\n",
    "we preprocess our data, by transforming it and then feedidng it to the model. in this stage we basically scale our (0-255) pixel vals to vals btn 0 and 1. this is done by dividing each val in the training and testing sets by 255. This is done cos vals btn 0 and 1 are relatively compressed as compared to that of the 0-255 and all decimal points btn. so it easier to process by the model."
   ]
  },
  {
   "cell_type": "code",
   "execution_count": 35,
   "id": "8ec81dcb",
   "metadata": {},
   "outputs": [],
   "source": [
    "training_imgs = training_imgs/255.0\n",
    "testing_imgs = testing_imgs/255.0 #so that we dont get vals truncated to int datatype"
   ]
  },
  {
   "cell_type": "markdown",
   "id": "a7b455b0",
   "metadata": {},
   "source": [
    "### Building the Model\n",
    "We will use keras sequential model with three different layers. this model uses a feed forward Neural Network - passing vals from left to right....i.e. going through the model sequentially.\n",
    "Each layer is broken down with its architecture below"
   ]
  },
  {
   "cell_type": "code",
   "execution_count": 37,
   "id": "641d3aca",
   "metadata": {},
   "outputs": [],
   "source": [
    "ourmodel = keras.Sequential([\n",
    "    keras.layers.Flatten(input_shape = (28,28)),  #input layer 1- flattens our 28 by 28 grid to a 748 array \n",
    "    keras.layers.Dense(128, activation = 'relu'),  #hidden layer 2 activation fxn \n",
    "    #rectified linear unit, Dense class ensures dt each prevopis layers neurons are connected to neurons in the layer set 'Dense'.\n",
    "    #the val 128 is a random val, we chose to set it how we want...\n",
    "    keras.layers.Dense(10, activation = 'softmax')  #output layer 3 - 10 output neurons, each for our classnaem, activation fxn \n",
    "    #softmax allows the summation of all output neurons values to sum up to 1.\n",
    "])"
   ]
  },
  {
   "cell_type": "code",
   "execution_count": 38,
   "id": "ec2b959e",
   "metadata": {},
   "outputs": [],
   "source": [
    "ourmodel.compile(\n",
    "    optimizer = 'adam', #this is an alg that calcs gradient descent\n",
    "    loss = 'sparse_categorical_crossentropy', #loss or cost function\n",
    "    metrics = ['accuracy']\n",
    ")\n",
    "\n",
    "#our compiler's params are our hyperparams, we can tweak these values to influence our output"
   ]
  },
  {
   "cell_type": "code",
   "execution_count": 45,
   "id": "20229fe8",
   "metadata": {},
   "outputs": [
    {
     "name": "stdout",
     "output_type": "stream",
     "text": [
      "1875/1875 [==============================] - 16s 8ms/step - loss: 0.2662 - accuracy: 0.9012\n"
     ]
    },
    {
     "data": {
      "text/plain": [
       "<keras.callbacks.History at 0x167c4127220>"
      ]
     },
     "execution_count": 45,
     "metadata": {},
     "output_type": "execute_result"
    }
   ],
   "source": [
    "ourmodel.fit(training_imgs, training_lbls, epochs = 1) #remember epochs are no. of times model sees same dataset, may influence overfitting\n",
    "#dude started with 10, 8 and finally 1 epoch but i chose 2, then 4 and now 1 so here we go.\n",
    "#he tried to get teh testn accuracy to get to the highest possible value and as a result kept tweaking the epochs..generalizatio 3:35:08"
   ]
  },
  {
   "cell_type": "code",
   "execution_count": 46,
   "id": "f99c8f09",
   "metadata": {},
   "outputs": [
    {
     "name": "stdout",
     "output_type": "stream",
     "text": [
      "313/313 [==============================] - 2s 6ms/step - loss: 0.3361 - accuracy: 0.8800\n",
      "Test accuracy: 0.8799999952316284\n"
     ]
    }
   ],
   "source": [
    "test_loss, test_acc = ourmodel.evaluate(testing_imgs, testing_lbls, verbose = 1) #verbose is some jargon\n",
    "print('Test accuracy:', test_acc)"
   ]
  },
  {
   "cell_type": "markdown",
   "id": "6b908e0c",
   "metadata": {},
   "source": [
    "## Predictions\n",
    "Now we make predictions"
   ]
  },
  {
   "cell_type": "code",
   "execution_count": 54,
   "id": "32a0efb9",
   "metadata": {},
   "outputs": [
    {
     "name": "stdout",
     "output_type": "stream",
     "text": [
      "313/313 [==============================] - 1s 4ms/step\n",
      "[[1.3406274e-05 2.7293402e-07 3.8855981e-07 ... 2.4718339e-02\n",
      "  1.1304022e-06 9.7181165e-01]\n",
      " [4.3818200e-05 1.4684997e-13 9.9928027e-01 ... 1.5993021e-15\n",
      "  1.1921428e-10 1.3371184e-15]\n",
      " [2.0403775e-07 9.9999976e-01 9.3862951e-10 ... 1.8563395e-22\n",
      "  7.7809211e-13 4.1149402e-20]\n",
      " ...\n",
      " [8.2741237e-05 5.4217320e-10 1.1766452e-04 ... 3.4037499e-09\n",
      "  9.9954444e-01 5.5121109e-11]\n",
      " [2.0998568e-06 9.9940252e-01 8.7938140e-08 ... 1.4668615e-14\n",
      "  1.6139983e-09 1.4089778e-11]\n",
      " [3.2452102e-05 4.4091729e-07 3.0063105e-05 ... 3.9648577e-03\n",
      "  3.5081664e-03 5.0458275e-05]] \n",
      "\n",
      "<class 'numpy.ndarray'>\n"
     ]
    },
    {
     "data": {
      "text/plain": [
       "(10000, 10)"
      ]
     },
     "execution_count": 54,
     "metadata": {},
     "output_type": "execute_result"
    }
   ],
   "source": [
    "predictions = ourmodel.predict(testing_imgs)\n",
    "print(predictions, '\\n')\n",
    "print(type(predictions))\n",
    "predictions.shape  #tells us we have 10,000 test data "
   ]
  },
  {
   "cell_type": "code",
   "execution_count": 66,
   "id": "a87ba692",
   "metadata": {},
   "outputs": [
    {
     "name": "stdout",
     "output_type": "stream",
     "text": [
      "Sandal\n"
     ]
    },
    {
     "data": {
      "image/png": "[encoded data removed]",
      "text/plain": [
       "<Figure size 432x288 with 2 Axes>"
      ]
     },
     "metadata": {
      "needs_background": "light"
     },
     "output_type": "display_data"
    }
   ],
   "source": [
    "lottonum = 423                 #chang this val to test pc prediction\n",
    "print(class_names[np.argmax(predictions[lottonum])]) #gets to print class name of obj predicted by model.\n",
    "\n",
    "#check corresponding image in our test dataset for marking\n",
    "plt.figure()\n",
    "plt.imshow(training_imgs[lottonum])\n",
    "plt.colorbar()\n",
    "plt.grid(False)\n",
    "plt.show()"
   ]
  },
  {
   "cell_type": "code",
   "execution_count": null,
   "id": "c7a48272",
   "metadata": {},
   "outputs": [],
   "source": []
  },
  {
   "cell_type": "code",
   "execution_count": 67,
   "id": "1e627d55",
   "metadata": {},
   "outputs": [
    {
     "name": "stdout",
     "output_type": "stream",
     "text": [
      "Pick a number150\n",
      "1/1 [==============================] - 0s 43ms/step\n",
      "prediction [[1.1569629e-02 4.2341178e-04 4.9930517e-02 7.2344577e-01 1.7340089e-01\n",
      "  1.2859084e-08 4.1026879e-02 2.0378640e-10 2.0280173e-04 4.1262240e-08]]\n",
      "pred classs Dress\n"
     ]
    },
    {
     "data": {
      "image/png": "[encoded data removed]",
      "text/plain": [
       "<Figure size 432x288 with 2 Axes>"
      ]
     },
     "metadata": {
      "needs_background": "light"
     },
     "output_type": "display_data"
    }
   ],
   "source": [
    "COLOR = 'white'\n",
    "plt.rcParams['text.color']= COLOR\n",
    "plt.rcParams['axes.labelcolor'] = COLOR\n",
    "\n",
    "def show_image(myimg, label, guess):\n",
    "    plt.figure()\n",
    "    plt.imshow(myimg, cmap=plt.cm.binary)\n",
    "    plt.title('Expected: ' + label)\n",
    "    plt.xlabel(\"Guess: \" + guess)\n",
    "    plt.colorbar()\n",
    "    plt.grid(False)\n",
    "    plt.show()\n",
    "    \n",
    "def predict(model, img, correct_label):\n",
    "    class_names = ['T-shirt/top', 'Trouser', 'Pullover', 'Dress', 'Coat', 'Sandal', 'Shirt', 'Sneaker', 'Bag', 'Ankleboot']\n",
    "    prediction = model.predict(np.array([img]))\n",
    "    print('prediction',prediction)\n",
    "    predicted_class = class_names[np.argmax(prediction)]\n",
    "    print('pred classs', predicted_class)\n",
    "    \n",
    "    show_image(img, class_names[correct_label], predicted_class)\n",
    "    \n",
    "\n",
    "def getnum():\n",
    "    while True:\n",
    "        num = input('Pick a number')\n",
    "        if num.isdigit():\n",
    "            num = int(num)\n",
    "            if 0<=num<=10000:\n",
    "                return int(num)\n",
    "        else:\n",
    "            print('Try again...')\n",
    "\n",
    "num = getnum()\n",
    "img = testing_imgs[num]\n",
    "lbl = testing_lbls[num]\n",
    "predict(ourmodel, img, lbl)"
   ]
  },
  {
   "cell_type": "code",
   "execution_count": 70,
   "id": "73e50033",
   "metadata": {},
   "outputs": [
    {
     "name": "stdout",
     "output_type": "stream",
     "text": [
      "Pick a number5000\n",
      "1/1 [==============================] - 0s 42ms/step\n",
      "prediction [[7.2596688e-04 7.8246947e-09 9.7371012e-01 5.0356681e-07 1.7765203e-02\n",
      "  7.9136576e-08 7.7971499e-03 4.0753775e-10 1.0717677e-06 2.9552372e-10]]\n",
      "pred classs Pullover\n",
      "Pullover Pullover\n"
     ]
    },
    {
     "data": {
      "image/png": "[encoded data removed]",
      "text/plain": [
       "<Figure size 432x288 with 2 Axes>"
      ]
     },
     "metadata": {
      "needs_background": "light"
     },
     "output_type": "display_data"
    }
   ],
   "source": [
    "COLOR = 'white'\n",
    "plt.rcParams['text.color']= COLOR\n",
    "plt.rcParams['axes.labelcolor'] = COLOR\n",
    "\n",
    "def show_image(myimg, label, guess):\n",
    "    plt.figure()\n",
    "    plt.imshow(myimg, cmap=plt.cm.binary)\n",
    "    plt.title('Expected: ' + label)\n",
    "    print(label, guess)\n",
    "    plt.xlabel(\"Guess: \" + guess)\n",
    "    plt.colorbar()\n",
    "    plt.grid(False)\n",
    "    plt.show()\n",
    "    \n",
    "def predict(model, img, correct_label):\n",
    "    class_names = ['T-shirt/top', 'Trouser', 'Pullover', 'Dress', 'Coat', 'Sandal', 'Shirt', 'Sneaker', 'Bag', 'Ankleboot']\n",
    "    prediction = model.predict(np.array([img]))\n",
    "    print('prediction',prediction)\n",
    "    predicted_class = class_names[np.argmax(prediction)]\n",
    "    print('pred classs', predicted_class)\n",
    "    \n",
    "    show_image(img, class_names[correct_label], predicted_class)\n",
    "    \n",
    "\n",
    "def getnum():\n",
    "    while True:\n",
    "        num = input('Pick a number')\n",
    "        if num.isdigit():\n",
    "            num = int(num)\n",
    "            if 0<=num<=10000:\n",
    "                return int(num)\n",
    "        else:\n",
    "            print('Try again...')\n",
    "\n",
    "num = getnum()\n",
    "img = testing_imgs[num]\n",
    "lbl = testing_lbls[num]\n",
    "predict(ourmodel, img, lbl)"
   ]
  },
  {
   "cell_type": "markdown",
   "id": "ea4b74e1",
   "metadata": {},
   "source": [
    "### the above illustration is wrong...It was supposed to return a sandal img but returned a shoe image. \n",
    "This begs the question:\n",
    "# How do you improve the accuracy of your model?"
   ]
  },
  {
   "cell_type": "code",
   "execution_count": null,
   "id": "3a829620",
   "metadata": {},
   "outputs": [],
   "source": []
  },
  {
   "cell_type": "code",
   "execution_count": null,
   "id": "138d1794",
   "metadata": {},
   "outputs": [],
   "source": []
  },
  {
   "cell_type": "code",
   "execution_count": null,
   "id": "8d722020",
   "metadata": {},
   "outputs": [],
   "source": []
  },
  {
   "cell_type": "code",
   "execution_count": null,
   "id": "5f65cf16",
   "metadata": {},
   "outputs": [],
   "source": []
  }
 ],
 "metadata": {
  "kernelspec": {
   "display_name": "Python 3 (ipykernel)",
   "language": "python",
   "name": "python3"
  },
  "language_info": {
   "codemirror_mode": {
    "name": "ipython",
    "version": 3
   },
   "file_extension": ".py",
   "mimetype": "text/x-python",
   "name": "python",
   "nbconvert_exporter": "python",
   "pygments_lexer": "ipython3",
   "version": "3.10.0"
  }
 },
 "nbformat": 4,
 "nbformat_minor": 5
}
