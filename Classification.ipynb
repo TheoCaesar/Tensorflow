{
 "cells": [
  {
   "cell_type": "code",
   "execution_count": 1,
   "id": "67548dd1",
   "metadata": {},
   "outputs": [
    {
     "name": "stdout",
     "output_type": "stream",
     "text": [
      "<module 'tensorflow._api.v2.version' from 'C:\\\\Users\\\\santa\\\\AppData\\\\Local\\\\Programs\\\\Python\\\\Python310\\\\lib\\\\site-packages\\\\tensorflow\\\\_api\\\\v2\\\\version\\\\__init__.py'>\n"
     ]
    }
   ],
   "source": [
    "from __future__ import absolute_import, division, print_function, unicode_literals #idk what half of this shit does.\n",
    "\n",
    "import tensorflow as tf\n",
    "import pandas as pd\n",
    "print(tf.version)"
   ]
  },
  {
   "cell_type": "code",
   "execution_count": 2,
   "id": "786f205e",
   "metadata": {},
   "outputs": [
    {
     "name": "stdout",
     "output_type": "stream",
     "text": [
      "   120    4  setosa  versicolor  virginica\n",
      "0  6.4  2.8     5.6         2.2          2\n",
      "1  5.0  2.3     3.3         1.0          1\n",
      "2  4.9  2.5     4.5         1.7          2\n",
      "3  4.9  3.1     1.5         0.1          0\n",
      "4  5.7  3.8     1.7         0.3          0 \n",
      "     30    4  setosa  versicolor  virginica\n",
      "0  5.9  3.0     4.2         1.5          1\n",
      "1  6.9  3.1     5.4         2.1          2\n",
      "2  5.1  3.3     1.7         0.5          0\n",
      "3  6.0  3.4     4.5         1.6          1\n",
      "4  5.5  2.5     4.0         1.3          1\n"
     ]
    }
   ],
   "source": [
    "#dude used tensorflow submodel named keras to download, name file  and load his dataframe, but i did it the usual way\n",
    "dftrain = pd.read_csv('../techwithTim TensorFlow/iris_training.csv')\n",
    "dftest = pd.read_csv('../techwithTim TensorFlow/iris_test.csv')\n",
    "\n",
    "#now lets check if our df is loaded\n",
    "print(dftrain.head(), '\\n', dftest.head())"
   ]
  },
  {
   "cell_type": "code",
   "execution_count": 3,
   "id": "1ec4a5ab",
   "metadata": {},
   "outputs": [
    {
     "name": "stdout",
     "output_type": "stream",
     "text": [
      "   SepalLength  SepalWidth  PetalLength  PetalWidth  Species\n",
      "0          6.4         2.8          5.6         2.2        2\n",
      "1          5.0         2.3          3.3         1.0        1\n",
      "2          4.9         2.5          4.5         1.7        2\n",
      "3          4.9         3.1          1.5         0.1        0\n",
      "4          5.7         3.8          1.7         0.3        0 \n",
      "    SepalLength  SepalWidth  PetalLength  PetalWidth  Species\n",
      "0          5.9         3.0          4.2         1.5        1\n",
      "1          6.9         3.1          5.4         2.1        2\n",
      "2          5.1         3.3          1.7         0.5        0\n",
      "3          6.0         3.4          4.5         1.6        1\n",
      "4          5.5         2.5          4.0         1.3        1\n"
     ]
    }
   ],
   "source": [
    "CSV_COLUMN_NAMES = ['SepalLength', 'SepalWidth', 'PetalLength', 'PetalWidth', 'Species']\n",
    "SPECIES = ['Setosa', 'Versicolor', 'Virginica']\n",
    "\n",
    "dftrain = pd.read_csv('../techwithTim TensorFlow/iris_training.csv', names= CSV_COLUMN_NAMES, header = 0)\n",
    "dftest = pd.read_csv('../techwithTim TensorFlow/iris_test.csv', names = CSV_COLUMN_NAMES, header = 0)\n",
    "\n",
    "#now lets check if our df is loaded\n",
    "print(dftrain.head(), '\\n', dftest.head())"
   ]
  },
  {
   "cell_type": "markdown",
   "id": "633a08ff",
   "metadata": {},
   "source": [
    "## notice that in the species column, we have our 3 species already numerically tagged 0-2"
   ]
  },
  {
   "cell_type": "code",
   "execution_count": 4,
   "id": "ee68f583",
   "metadata": {},
   "outputs": [
    {
     "data": {
      "text/html": [
       "<div>\n",
       "<style scoped>\n",
       "    .dataframe tbody tr th:only-of-type {\n",
       "        vertical-align: middle;\n",
       "    }\n",
       "\n",
       "    .dataframe tbody tr th {\n",
       "        vertical-align: top;\n",
       "    }\n",
       "\n",
       "    .dataframe thead th {\n",
       "        text-align: right;\n",
       "    }\n",
       "</style>\n",
       "<table border=\"1\" class=\"dataframe\">\n",
       "  <thead>\n",
       "    <tr style=\"text-align: right;\">\n",
       "      <th></th>\n",
       "      <th>SepalLength</th>\n",
       "      <th>SepalWidth</th>\n",
       "      <th>PetalLength</th>\n",
       "      <th>PetalWidth</th>\n",
       "      <th>Species</th>\n",
       "    </tr>\n",
       "  </thead>\n",
       "  <tbody>\n",
       "    <tr>\n",
       "      <th>count</th>\n",
       "      <td>120.000000</td>\n",
       "      <td>120.000000</td>\n",
       "      <td>120.000000</td>\n",
       "      <td>120.000000</td>\n",
       "      <td>120.000000</td>\n",
       "    </tr>\n",
       "    <tr>\n",
       "      <th>mean</th>\n",
       "      <td>5.845000</td>\n",
       "      <td>3.065000</td>\n",
       "      <td>3.739167</td>\n",
       "      <td>1.196667</td>\n",
       "      <td>1.000000</td>\n",
       "    </tr>\n",
       "    <tr>\n",
       "      <th>std</th>\n",
       "      <td>0.868578</td>\n",
       "      <td>0.427156</td>\n",
       "      <td>1.822100</td>\n",
       "      <td>0.782039</td>\n",
       "      <td>0.840168</td>\n",
       "    </tr>\n",
       "    <tr>\n",
       "      <th>min</th>\n",
       "      <td>4.400000</td>\n",
       "      <td>2.000000</td>\n",
       "      <td>1.000000</td>\n",
       "      <td>0.100000</td>\n",
       "      <td>0.000000</td>\n",
       "    </tr>\n",
       "    <tr>\n",
       "      <th>25%</th>\n",
       "      <td>5.075000</td>\n",
       "      <td>2.800000</td>\n",
       "      <td>1.500000</td>\n",
       "      <td>0.300000</td>\n",
       "      <td>0.000000</td>\n",
       "    </tr>\n",
       "    <tr>\n",
       "      <th>50%</th>\n",
       "      <td>5.800000</td>\n",
       "      <td>3.000000</td>\n",
       "      <td>4.400000</td>\n",
       "      <td>1.300000</td>\n",
       "      <td>1.000000</td>\n",
       "    </tr>\n",
       "    <tr>\n",
       "      <th>75%</th>\n",
       "      <td>6.425000</td>\n",
       "      <td>3.300000</td>\n",
       "      <td>5.100000</td>\n",
       "      <td>1.800000</td>\n",
       "      <td>2.000000</td>\n",
       "    </tr>\n",
       "    <tr>\n",
       "      <th>max</th>\n",
       "      <td>7.900000</td>\n",
       "      <td>4.400000</td>\n",
       "      <td>6.900000</td>\n",
       "      <td>2.500000</td>\n",
       "      <td>2.000000</td>\n",
       "    </tr>\n",
       "  </tbody>\n",
       "</table>\n",
       "</div>"
      ],
      "text/plain": [
       "       SepalLength  SepalWidth  PetalLength  PetalWidth     Species\n",
       "count   120.000000  120.000000   120.000000  120.000000  120.000000\n",
       "mean      5.845000    3.065000     3.739167    1.196667    1.000000\n",
       "std       0.868578    0.427156     1.822100    0.782039    0.840168\n",
       "min       4.400000    2.000000     1.000000    0.100000    0.000000\n",
       "25%       5.075000    2.800000     1.500000    0.300000    0.000000\n",
       "50%       5.800000    3.000000     4.400000    1.300000    1.000000\n",
       "75%       6.425000    3.300000     5.100000    1.800000    2.000000\n",
       "max       7.900000    4.400000     6.900000    2.500000    2.000000"
      ]
     },
     "execution_count": 4,
     "metadata": {},
     "output_type": "execute_result"
    }
   ],
   "source": [
    "dftrain.describe()\n"
   ]
  },
  {
   "cell_type": "code",
   "execution_count": 5,
   "id": "ba19135c",
   "metadata": {},
   "outputs": [
    {
     "name": "stdout",
     "output_type": "stream",
     "text": [
      "<class 'pandas.core.frame.DataFrame'>\n",
      "RangeIndex: 120 entries, 0 to 119\n",
      "Data columns (total 5 columns):\n",
      " #   Column       Non-Null Count  Dtype  \n",
      "---  ------       --------------  -----  \n",
      " 0   SepalLength  120 non-null    float64\n",
      " 1   SepalWidth   120 non-null    float64\n",
      " 2   PetalLength  120 non-null    float64\n",
      " 3   PetalWidth   120 non-null    float64\n",
      " 4   Species      120 non-null    int64  \n",
      "dtypes: float64(4), int64(1)\n",
      "memory usage: 4.8 KB\n"
     ]
    }
   ],
   "source": [
    "dftrain.info()"
   ]
  },
  {
   "cell_type": "code",
   "execution_count": 6,
   "id": "64a4cfd6",
   "metadata": {},
   "outputs": [
    {
     "name": "stdout",
     "output_type": "stream",
     "text": [
      "[2 1 0]\n"
     ]
    }
   ],
   "source": [
    "print(dftrain['Species'].unique())"
   ]
  },
  {
   "cell_type": "markdown",
   "id": "69771fdf",
   "metadata": {},
   "source": [
    "## With our categorical Species already converted into numeric, since we will be predicting species; we will pop it off and store it in our yvariable."
   ]
  },
  {
   "cell_type": "code",
   "execution_count": 7,
   "id": "18ebdea0",
   "metadata": {},
   "outputs": [
    {
     "data": {
      "text/html": [
       "<div>\n",
       "<style scoped>\n",
       "    .dataframe tbody tr th:only-of-type {\n",
       "        vertical-align: middle;\n",
       "    }\n",
       "\n",
       "    .dataframe tbody tr th {\n",
       "        vertical-align: top;\n",
       "    }\n",
       "\n",
       "    .dataframe thead th {\n",
       "        text-align: right;\n",
       "    }\n",
       "</style>\n",
       "<table border=\"1\" class=\"dataframe\">\n",
       "  <thead>\n",
       "    <tr style=\"text-align: right;\">\n",
       "      <th></th>\n",
       "      <th>SepalLength</th>\n",
       "      <th>SepalWidth</th>\n",
       "      <th>PetalLength</th>\n",
       "      <th>PetalWidth</th>\n",
       "    </tr>\n",
       "  </thead>\n",
       "  <tbody>\n",
       "    <tr>\n",
       "      <th>0</th>\n",
       "      <td>6.4</td>\n",
       "      <td>2.8</td>\n",
       "      <td>5.6</td>\n",
       "      <td>2.2</td>\n",
       "    </tr>\n",
       "    <tr>\n",
       "      <th>1</th>\n",
       "      <td>5.0</td>\n",
       "      <td>2.3</td>\n",
       "      <td>3.3</td>\n",
       "      <td>1.0</td>\n",
       "    </tr>\n",
       "    <tr>\n",
       "      <th>2</th>\n",
       "      <td>4.9</td>\n",
       "      <td>2.5</td>\n",
       "      <td>4.5</td>\n",
       "      <td>1.7</td>\n",
       "    </tr>\n",
       "    <tr>\n",
       "      <th>3</th>\n",
       "      <td>4.9</td>\n",
       "      <td>3.1</td>\n",
       "      <td>1.5</td>\n",
       "      <td>0.1</td>\n",
       "    </tr>\n",
       "    <tr>\n",
       "      <th>4</th>\n",
       "      <td>5.7</td>\n",
       "      <td>3.8</td>\n",
       "      <td>1.7</td>\n",
       "      <td>0.3</td>\n",
       "    </tr>\n",
       "  </tbody>\n",
       "</table>\n",
       "</div>"
      ],
      "text/plain": [
       "   SepalLength  SepalWidth  PetalLength  PetalWidth\n",
       "0          6.4         2.8          5.6         2.2\n",
       "1          5.0         2.3          3.3         1.0\n",
       "2          4.9         2.5          4.5         1.7\n",
       "3          4.9         3.1          1.5         0.1\n",
       "4          5.7         3.8          1.7         0.3"
      ]
     },
     "execution_count": 7,
     "metadata": {},
     "output_type": "execute_result"
    }
   ],
   "source": [
    "ytrain = dftrain.pop('Species')\n",
    "ytest = dftest.pop ('Species') #remember this takes away our species column from pandas dataframe & store it in assigned vars\n",
    "dftrain.head()"
   ]
  },
  {
   "cell_type": "code",
   "execution_count": 8,
   "id": "0216c7d6",
   "metadata": {},
   "outputs": [
    {
     "name": "stdout",
     "output_type": "stream",
     "text": [
      "0    2\n",
      "1    1\n",
      "2    2\n",
      "3    0\n",
      "4    0\n",
      "Name: Species, dtype: int64 \n",
      "\n",
      " 0    1\n",
      "1    2\n",
      "2    0\n",
      "3    1\n",
      "4    1\n",
      "Name: Species, dtype: int64\n",
      "0      2\n",
      "1      1\n",
      "2      2\n",
      "3      0\n",
      "4      0\n",
      "      ..\n",
      "115    1\n",
      "116    1\n",
      "117    0\n",
      "118    0\n",
      "119    1\n",
      "Name: Species, Length: 120, dtype: int64\n"
     ]
    }
   ],
   "source": [
    "print(ytrain.head(), '\\n\\n', ytest.head())\n",
    "print(ytrain)"
   ]
  },
  {
   "cell_type": "markdown",
   "id": "8521e344",
   "metadata": {},
   "source": [
    " ## Input Fucntion\n",
    "    having our data elements all in numerals; our input function is going to be pretty much straight forward\n",
    "    \n",
    "    our input function is going to be different than before, in the sense that we have no epochs and the batch size differs as well"
   ]
  },
  {
   "cell_type": "code",
   "execution_count": 9,
   "id": "def11da0",
   "metadata": {},
   "outputs": [],
   "source": [
    "def input_fn(features, labels, training = True, batch_size = 256): #dunno why batch size is greater than that of the dataframe\n",
    "    #Convert the inputs to a dataset\n",
    "    ds = tf.data.Dataset.from_tensor_slices((dict(features), labels))\n",
    "    \n",
    "    # Shuffle & repeat if you are in training mode.\n",
    "    if training:                            #previously, we represented this with 'shuffle'\n",
    "        ds = ds.shuffle(1000).repeat()      #previously, num of epochs was passed as a parameter to the repeat method...\n",
    "    return ds.batch(batch_size)             #same as that before except what we are now returning was assigned to var named ds"
   ]
  },
  {
   "cell_type": "markdown",
   "id": "465495d4",
   "metadata": {},
   "source": [
    "## Feature Columns\n",
    "I actually didint think we will be needing this -- then i remembered that feature columns is just half of categorical data conversion treated before."
   ]
  },
  {
   "cell_type": "code",
   "execution_count": 10,
   "id": "31827765",
   "metadata": {},
   "outputs": [
    {
     "name": "stdout",
     "output_type": "stream",
     "text": [
      "[NumericColumn(key='SepalLength', shape=(1,), default_value=None, dtype=tf.float32, normalizer_fn=None)] \n",
      "\n",
      "[NumericColumn(key='SepalLength', shape=(1,), default_value=None, dtype=tf.float32, normalizer_fn=None), NumericColumn(key='SepalWidth', shape=(1,), default_value=None, dtype=tf.float32, normalizer_fn=None)] \n",
      "\n",
      "[NumericColumn(key='SepalLength', shape=(1,), default_value=None, dtype=tf.float32, normalizer_fn=None), NumericColumn(key='SepalWidth', shape=(1,), default_value=None, dtype=tf.float32, normalizer_fn=None), NumericColumn(key='PetalLength', shape=(1,), default_value=None, dtype=tf.float32, normalizer_fn=None)] \n",
      "\n",
      "[NumericColumn(key='SepalLength', shape=(1,), default_value=None, dtype=tf.float32, normalizer_fn=None), NumericColumn(key='SepalWidth', shape=(1,), default_value=None, dtype=tf.float32, normalizer_fn=None), NumericColumn(key='PetalLength', shape=(1,), default_value=None, dtype=tf.float32, normalizer_fn=None), NumericColumn(key='PetalWidth', shape=(1,), default_value=None, dtype=tf.float32, normalizer_fn=None)] \n",
      "\n",
      "Final Final\n",
      " [NumericColumn(key='SepalLength', shape=(1,), default_value=None, dtype=tf.float32, normalizer_fn=None), NumericColumn(key='SepalWidth', shape=(1,), default_value=None, dtype=tf.float32, normalizer_fn=None), NumericColumn(key='PetalLength', shape=(1,), default_value=None, dtype=tf.float32, normalizer_fn=None), NumericColumn(key='PetalWidth', shape=(1,), default_value=None, dtype=tf.float32, normalizer_fn=None)] \n",
      "\n"
     ]
    }
   ],
   "source": [
    "varFeatureCols = []\n",
    "for each in dftrain.keys():\n",
    "    varFeatureCols.append(tf.feature_column.numeric_column(key = each))\n",
    "    print(varFeatureCols, '\\n')\n",
    "    \n",
    "print('Final Final\\n',varFeatureCols, '\\n')"
   ]
  },
  {
   "cell_type": "code",
   "execution_count": null,
   "id": "436a6988",
   "metadata": {},
   "outputs": [],
   "source": []
  },
  {
   "cell_type": "markdown",
   "id": "9bf0b76b",
   "metadata": {},
   "source": [
    "## Building the Model\n",
    "our model(i.e. estimators) of choice is between DNNClassifier(Deep Neural Network) and LinearClassifier, out of the existing 100 for the purposes of classification. Both of them may work but dude thinks DNN is the best choice. \n",
    "\n",
    "We will try the Linear Classifier too and see...note that this is what we used in linear regression but does classification"
   ]
  },
  {
   "cell_type": "code",
   "execution_count": 11,
   "id": "c88fc191",
   "metadata": {},
   "outputs": [
    {
     "name": "stdout",
     "output_type": "stream",
     "text": [
      "INFO:tensorflow:Using default config.\n",
      "WARNING:tensorflow:Using temporary folder as model directory: C:\\Users\\santa\\AppData\\Local\\Temp\\tmpnzs1tzbe\n",
      "INFO:tensorflow:Using config: {'_model_dir': 'C:\\\\Users\\\\santa\\\\AppData\\\\Local\\\\Temp\\\\tmpnzs1tzbe', '_tf_random_seed': None, '_save_summary_steps': 100, '_save_checkpoints_steps': None, '_save_checkpoints_secs': 600, '_session_config': allow_soft_placement: true\n",
      "graph_options {\n",
      "  rewrite_options {\n",
      "    meta_optimizer_iterations: ONE\n",
      "  }\n",
      "}\n",
      ", '_keep_checkpoint_max': 5, '_keep_checkpoint_every_n_hours': 10000, '_log_step_count_steps': 100, '_train_distribute': None, '_device_fn': None, '_protocol': None, '_eval_distribute': None, '_experimental_distribute': None, '_experimental_max_worker_delay_secs': None, '_session_creation_timeout_secs': 7200, '_checkpoint_save_graph_def': True, '_service': None, '_cluster_spec': ClusterSpec({}), '_task_type': 'worker', '_task_id': 0, '_global_id_in_cluster': 0, '_master': '', '_evaluation_master': '', '_is_chief': True, '_num_ps_replicas': 0, '_num_worker_replicas': 1}\n"
     ]
    }
   ],
   "source": [
    "#Building a DNN with Two(2) Hidden layers with a 30 nodes and 10 hidden nodes each...\n",
    "classifierModel = tf.estimator.DNNClassifier(\n",
    "   feature_columns=varFeatureCols, \n",
    "   #Our 2 hidden layers of 30 nodes and 10 hidden nodes each\n",
    "   hidden_units = [30, 10],\n",
    "   #The model is to choose between 3 classes/species\n",
    "   n_classes = 3)"
   ]
  },
  {
   "cell_type": "markdown",
   "id": "48f8f286",
   "metadata": {},
   "source": [
    "## Training \n",
    "Now it is time to train the model!"
   ]
  },
  {
   "cell_type": "code",
   "execution_count": 12,
   "id": "9a516b97",
   "metadata": {},
   "outputs": [
    {
     "name": "stdout",
     "output_type": "stream",
     "text": [
      "WARNING:tensorflow:From C:\\Users\\santa\\AppData\\Local\\Programs\\Python\\Python310\\lib\\site-packages\\tensorflow\\python\\training\\training_util.py:396: Variable.initialized_value (from tensorflow.python.ops.variables) is deprecated and will be removed in a future version.\n",
      "Instructions for updating:\n",
      "Use Variable.read_value. Variables in 2.X are initialized automatically both in eager and graph (inside tf.defun) contexts.\n",
      "INFO:tensorflow:Calling model_fn.\n",
      "WARNING:tensorflow:From C:\\Users\\santa\\AppData\\Local\\Programs\\Python\\Python310\\lib\\site-packages\\keras\\optimizers\\optimizer_v2\\adagrad.py:86: calling Constant.__init__ (from tensorflow.python.ops.init_ops) with dtype is deprecated and will be removed in a future version.\n",
      "Instructions for updating:\n",
      "Call initializer instance with the dtype argument instead of passing it to the constructor\n",
      "INFO:tensorflow:Done calling model_fn.\n",
      "INFO:tensorflow:Create CheckpointSaverHook.\n",
      "INFO:tensorflow:Graph was finalized.\n",
      "INFO:tensorflow:Running local_init_op.\n",
      "INFO:tensorflow:Done running local_init_op.\n",
      "INFO:tensorflow:Calling checkpoint listeners before saving checkpoint 0...\n",
      "INFO:tensorflow:Saving checkpoints for 0 into C:\\Users\\santa\\AppData\\Local\\Temp\\tmpnzs1tzbe\\model.ckpt.\n",
      "INFO:tensorflow:C:\\Users\\santa\\AppData\\Local\\Temp\\tmpnzs1tzbe\\model.ckpt-0.data-00000-of-00001\n",
      "INFO:tensorflow:0\n",
      "INFO:tensorflow:C:\\Users\\santa\\AppData\\Local\\Temp\\tmpnzs1tzbe\\model.ckpt-0.index\n",
      "INFO:tensorflow:0\n",
      "INFO:tensorflow:C:\\Users\\santa\\AppData\\Local\\Temp\\tmpnzs1tzbe\\model.ckpt-0.meta\n",
      "INFO:tensorflow:100\n",
      "INFO:tensorflow:Calling checkpoint listeners after saving checkpoint 0...\n",
      "INFO:tensorflow:loss = 1.1248491, step = 0\n",
      "INFO:tensorflow:global_step/sec: 115.262\n",
      "INFO:tensorflow:loss = 0.9808612, step = 100 (0.874 sec)\n",
      "INFO:tensorflow:global_step/sec: 142.948\n",
      "INFO:tensorflow:loss = 0.9367258, step = 200 (0.698 sec)\n",
      "INFO:tensorflow:global_step/sec: 173.252\n",
      "INFO:tensorflow:loss = 0.8969263, step = 300 (0.576 sec)\n",
      "INFO:tensorflow:global_step/sec: 175.653\n",
      "INFO:tensorflow:loss = 0.86562675, step = 400 (0.570 sec)\n",
      "INFO:tensorflow:global_step/sec: 173.291\n",
      "INFO:tensorflow:loss = 0.8543384, step = 500 (0.577 sec)\n",
      "INFO:tensorflow:global_step/sec: 179.494\n",
      "INFO:tensorflow:loss = 0.8143503, step = 600 (0.557 sec)\n",
      "INFO:tensorflow:global_step/sec: 174.964\n",
      "INFO:tensorflow:loss = 0.7915164, step = 700 (0.571 sec)\n",
      "INFO:tensorflow:global_step/sec: 175.686\n",
      "INFO:tensorflow:loss = 0.7728888, step = 800 (0.573 sec)\n",
      "INFO:tensorflow:global_step/sec: 148.755\n",
      "INFO:tensorflow:loss = 0.745022, step = 900 (0.668 sec)\n",
      "INFO:tensorflow:global_step/sec: 175.102\n",
      "INFO:tensorflow:loss = 0.7209562, step = 1000 (0.572 sec)\n",
      "INFO:tensorflow:global_step/sec: 180.864\n",
      "INFO:tensorflow:loss = 0.71252894, step = 1100 (0.553 sec)\n",
      "INFO:tensorflow:global_step/sec: 178.744\n",
      "INFO:tensorflow:loss = 0.69492465, step = 1200 (0.559 sec)\n",
      "INFO:tensorflow:global_step/sec: 180.489\n",
      "INFO:tensorflow:loss = 0.6732629, step = 1300 (0.554 sec)\n",
      "INFO:tensorflow:global_step/sec: 150.662\n",
      "INFO:tensorflow:loss = 0.6653102, step = 1400 (0.663 sec)\n",
      "INFO:tensorflow:global_step/sec: 145.305\n",
      "INFO:tensorflow:loss = 0.6546445, step = 1500 (0.689 sec)\n",
      "INFO:tensorflow:global_step/sec: 148.148\n",
      "INFO:tensorflow:loss = 0.64408815, step = 1600 (0.674 sec)\n",
      "INFO:tensorflow:global_step/sec: 147.599\n",
      "INFO:tensorflow:loss = 0.61642826, step = 1700 (0.678 sec)\n",
      "INFO:tensorflow:global_step/sec: 140.088\n",
      "INFO:tensorflow:loss = 0.61523896, step = 1800 (0.715 sec)\n",
      "INFO:tensorflow:global_step/sec: 152.497\n",
      "INFO:tensorflow:loss = 0.6046836, step = 1900 (0.654 sec)\n",
      "INFO:tensorflow:global_step/sec: 165.085\n",
      "INFO:tensorflow:loss = 0.6054937, step = 2000 (0.614 sec)\n",
      "INFO:tensorflow:global_step/sec: 160.369\n",
      "INFO:tensorflow:loss = 0.58186555, step = 2100 (0.617 sec)\n",
      "INFO:tensorflow:global_step/sec: 147.822\n",
      "INFO:tensorflow:loss = 0.5813249, step = 2200 (0.678 sec)\n",
      "INFO:tensorflow:global_step/sec: 173.767\n",
      "INFO:tensorflow:loss = 0.5724424, step = 2300 (0.574 sec)\n",
      "INFO:tensorflow:global_step/sec: 174.409\n",
      "INFO:tensorflow:loss = 0.5497552, step = 2400 (0.573 sec)\n",
      "INFO:tensorflow:global_step/sec: 181.233\n",
      "INFO:tensorflow:loss = 0.5425026, step = 2500 (0.552 sec)\n",
      "INFO:tensorflow:global_step/sec: 176.378\n",
      "INFO:tensorflow:loss = 0.5542175, step = 2600 (0.568 sec)\n",
      "INFO:tensorflow:global_step/sec: 171.884\n",
      "INFO:tensorflow:loss = 0.5331764, step = 2700 (0.581 sec)\n",
      "INFO:tensorflow:global_step/sec: 178.188\n",
      "INFO:tensorflow:loss = 0.5400255, step = 2800 (0.560 sec)\n",
      "INFO:tensorflow:global_step/sec: 175.012\n",
      "INFO:tensorflow:loss = 0.52754587, step = 2900 (0.571 sec)\n",
      "INFO:tensorflow:global_step/sec: 167.715\n",
      "INFO:tensorflow:loss = 0.5130541, step = 3000 (0.597 sec)\n",
      "INFO:tensorflow:global_step/sec: 176.24\n",
      "INFO:tensorflow:loss = 0.49823666, step = 3100 (0.567 sec)\n",
      "INFO:tensorflow:global_step/sec: 174.264\n",
      "INFO:tensorflow:loss = 0.5048677, step = 3200 (0.575 sec)\n",
      "INFO:tensorflow:global_step/sec: 177.177\n",
      "INFO:tensorflow:loss = 0.5002369, step = 3300 (0.563 sec)\n",
      "INFO:tensorflow:global_step/sec: 177.118\n",
      "INFO:tensorflow:loss = 0.48229766, step = 3400 (0.564 sec)\n",
      "INFO:tensorflow:global_step/sec: 176.678\n",
      "INFO:tensorflow:loss = 0.46792847, step = 3500 (0.568 sec)\n",
      "INFO:tensorflow:global_step/sec: 179.778\n",
      "INFO:tensorflow:loss = 0.4698686, step = 3600 (0.555 sec)\n",
      "INFO:tensorflow:global_step/sec: 178.646\n",
      "INFO:tensorflow:loss = 0.47134906, step = 3700 (0.560 sec)\n",
      "INFO:tensorflow:global_step/sec: 174.907\n",
      "INFO:tensorflow:loss = 0.47759748, step = 3800 (0.572 sec)\n",
      "INFO:tensorflow:global_step/sec: 176.366\n",
      "INFO:tensorflow:loss = 0.46441227, step = 3900 (0.567 sec)\n",
      "INFO:tensorflow:global_step/sec: 170.284\n",
      "INFO:tensorflow:loss = 0.46947324, step = 4000 (0.586 sec)\n",
      "INFO:tensorflow:global_step/sec: 167.097\n",
      "INFO:tensorflow:loss = 0.46132475, step = 4100 (0.599 sec)\n",
      "INFO:tensorflow:global_step/sec: 178.067\n",
      "INFO:tensorflow:loss = 0.4478714, step = 4200 (0.562 sec)\n",
      "INFO:tensorflow:global_step/sec: 180.391\n",
      "INFO:tensorflow:loss = 0.45156154, step = 4300 (0.554 sec)\n",
      "INFO:tensorflow:global_step/sec: 177.041\n",
      "INFO:tensorflow:loss = 0.4417077, step = 4400 (0.565 sec)\n",
      "INFO:tensorflow:global_step/sec: 180.612\n",
      "INFO:tensorflow:loss = 0.43975842, step = 4500 (0.553 sec)\n",
      "INFO:tensorflow:global_step/sec: 181.646\n",
      "INFO:tensorflow:loss = 0.42496598, step = 4600 (0.553 sec)\n",
      "INFO:tensorflow:global_step/sec: 173.291\n",
      "INFO:tensorflow:loss = 0.4283992, step = 4700 (0.576 sec)\n",
      "INFO:tensorflow:global_step/sec: 180.482\n",
      "INFO:tensorflow:loss = 0.42492655, step = 4800 (0.554 sec)\n",
      "INFO:tensorflow:global_step/sec: 177.663\n",
      "INFO:tensorflow:loss = 0.43145585, step = 4900 (0.563 sec)\n",
      "INFO:tensorflow:Calling checkpoint listeners before saving checkpoint 5000...\n",
      "INFO:tensorflow:Saving checkpoints for 5000 into C:\\Users\\santa\\AppData\\Local\\Temp\\tmpnzs1tzbe\\model.ckpt.\n",
      "INFO:tensorflow:C:\\Users\\santa\\AppData\\Local\\Temp\\tmpnzs1tzbe\\model.ckpt-5000.data-00000-of-00001\n",
      "INFO:tensorflow:0\n",
      "INFO:tensorflow:C:\\Users\\santa\\AppData\\Local\\Temp\\tmpnzs1tzbe\\model.ckpt-5000.index\n",
      "INFO:tensorflow:0\n",
      "INFO:tensorflow:C:\\Users\\santa\\AppData\\Local\\Temp\\tmpnzs1tzbe\\model.ckpt-5000.meta\n",
      "INFO:tensorflow:100\n",
      "INFO:tensorflow:Calling checkpoint listeners after saving checkpoint 5000...\n",
      "INFO:tensorflow:Loss for final step: 0.42435586.\n"
     ]
    },
    {
     "data": {
      "text/plain": [
       "<tensorflow_estimator.python.estimator.canned.dnn.DNNClassifierV2 at 0x1b2f7612bf0>"
      ]
     },
     "execution_count": 12,
     "metadata": {},
     "output_type": "execute_result"
    }
   ],
   "source": [
    "classifierModel.train(\n",
    "    input_fn = lambda:input_fn(dftrain, ytrain, training = True), steps = 5000) #steps is similar to epochs exept this sets the number of datum the\n",
    "# model will look at. epochs is on the other hand; number of times a data instance will be sen by the model.\n",
    "\n",
    "\n",
    "# lambda functions are similar to the inline keyword in C++. lamda allows us to create inline functions and assign the return value to a variable\n",
    "# the lamda keyword could be likened to a function definition and everything apres the colon being what the functin does. the variable equated to \n",
    "# lambda fxn is used in calling the inline function\n",
    "\n",
    "#so i gues doing this is similar to the function and subfunction we used in linear regression earlier--dude explicitly stated\n",
    "#Therefore to do away with lambda, input function will have to be nested i guess...Daniel Bourke will tell\n",
    "\n",
    "# CHECK OUT THE DEMONSTRATION OF THE LAMBDA IN THE CELL BELOW..."
   ]
  },
  {
   "cell_type": "code",
   "execution_count": 13,
   "id": "eeebbab9",
   "metadata": {},
   "outputs": [
    {
     "name": "stdout",
     "output_type": "stream",
     "text": [
      "Hello..\n"
     ]
    }
   ],
   "source": [
    "# CHECK OUT THE DEMONSTRATION OF THE LAMBDA IN THE CELL BELOW...\n",
    "z = lambda:print('Hello..')\n",
    "z()"
   ]
  },
  {
   "cell_type": "markdown",
   "id": "752ccef4",
   "metadata": {},
   "source": [
    "## Evaluate the Model\n",
    "we know evaluation also uses the input function. Note that we do not have a nested input function so we are going to invoke the lambda for this one too and for the parameters, we will be using the test data and ytest data and set the training/shuffle to False.\n",
    "\n",
    "### Note that we wont be adding the steps argument, cos we need to look at test data just one time"
   ]
  },
  {
   "cell_type": "code",
   "execution_count": 14,
   "id": "5c5625c5",
   "metadata": {},
   "outputs": [
    {
     "name": "stdout",
     "output_type": "stream",
     "text": [
      "INFO:tensorflow:Calling model_fn.\n",
      "INFO:tensorflow:Done calling model_fn.\n",
      "INFO:tensorflow:Starting evaluation at 2022-07-04T12:34:13\n",
      "INFO:tensorflow:Graph was finalized.\n",
      "INFO:tensorflow:Restoring parameters from C:\\Users\\santa\\AppData\\Local\\Temp\\tmpnzs1tzbe\\model.ckpt-5000\n",
      "INFO:tensorflow:Running local_init_op.\n",
      "INFO:tensorflow:Done running local_init_op.\n",
      "INFO:tensorflow:Inference Time : 3.81282s\n",
      "INFO:tensorflow:Finished evaluation at 2022-07-04-12:34:17\n",
      "INFO:tensorflow:Saving dict for global step 5000: accuracy = 0.9, average_loss = 0.4968237, global_step = 5000, loss = 0.4968237\n",
      "INFO:tensorflow:Saving 'checkpoint_path' summary for global step 5000: C:\\Users\\santa\\AppData\\Local\\Temp\\tmpnzs1tzbe\\model.ckpt-5000\n",
      "\n",
      "Test set accuracy: 0.900\n",
      "\n"
     ]
    }
   ],
   "source": [
    "eval_result = classifierModel.evaluate(input_fn = lambda:input_fn(dftest, ytest, training = False))\n",
    "print('\\nTest set accuracy: {accuracy:0.3f}\\n'.format(**eval_result)) #I think this is str formatting\n",
    "#should print th string along with the accuracy value of our dict eval_result"
   ]
  },
  {
   "cell_type": "code",
   "execution_count": 15,
   "id": "fcdf9b95",
   "metadata": {},
   "outputs": [
    {
     "name": "stdout",
     "output_type": "stream",
     "text": [
      "{'accuracy': 0.9, 'average_loss': 0.4968237, 'loss': 0.4968237, 'global_step': 5000}\n"
     ]
    }
   ],
   "source": [
    "print(eval_result)"
   ]
  },
  {
   "cell_type": "markdown",
   "id": "cc8512e9",
   "metadata": {},
   "source": [
    "# Predictions\n",
    "\n",
    "Having trained and evaluated the model; we are now going to make predictions. the script below all0ws us type the features of a flower and see a prediction for its class\n",
    "\n",
    "all we did was to create another function...dude for whatever reason stuch to same fxn name. and this fxn takes features and batch sizze as params. this is then used to generate a dataset, with the features as our x val and then apply the batch method, passing it the batch size. \n",
    "\n",
    "#### NB: we do not pass our input function any labels or y values: this is because our model is making a prediction, time of which we know not the species of the instance it is to predict.\n",
    "\n",
    "\n",
    "The next thing was to create a list and pass it our dataset column names as strings, we then add an empty dictionary which will be filed later on. \n",
    "\n",
    "the other half of the script loops through our features, and creates a variable named valid to true. NB that the whole purpose of the latter half is to check for a valid input from the user and make predictions. If the user input is valid, we get the index of our previously empty predict dictionary, and insert teh float equiv of user input. \n",
    "# the mode of user input is list method just because Tensorflow is not good for predicting just one value, hence it takes inputs for predictions in lists - dude.\n",
    "\n",
    "we call the predict function on our model and pass it the input function earlier defined, passing it the predict dict as xval args.\n",
    "we loop throught the results of the prediction which should either be a generator obj or dict obj\n",
    "we get the class_ids key and the first element in its list value\n",
    "\n",
    "\n"
   ]
  },
  {
   "cell_type": "code",
   "execution_count": 43,
   "id": "dba9b8f8",
   "metadata": {},
   "outputs": [
    {
     "name": "stdout",
     "output_type": "stream",
     "text": [
      "Please type the numeric values as prompted\n",
      "SepalLength: 5.1\n",
      "SepalWidth: 3.3\n",
      "PetalLength: 1.7\n",
      "PetalWidth: 0.5\n",
      "predict ==>  {'SepalLength': [5.1], 'SepalWidth': [3.3], 'PetalLength': [1.7], 'PetalWidth': [0.5]}\n"
     ]
    }
   ],
   "source": [
    "def input_fn(features, batch_size=256):\n",
    "    #Convert the inputs to a dataset sans lables\n",
    "    return tf.data.Dataset.from_tensor_slices(dict(features)).batch(batch_size)\n",
    "\n",
    "features = ['SepalLength', 'SepalWidth', 'PetalLength', 'PetalWidth']\n",
    "predict = {}\n",
    "\n",
    "print(\"Please type the numeric values as prompted\")\n",
    "for each in features:\n",
    "    valid = True\n",
    "    while valid:\n",
    "        val = input(each + \": \")\n",
    "        if not val.isdigit():\n",
    "            valid = False\n",
    "\n",
    "    predict[each] = [float(val)]\n",
    "    \n",
    "print('predict ==> ', predict)\n",
    "\n",
    "\n"
   ]
  },
  {
   "cell_type": "code",
   "execution_count": null,
   "id": "a3659098",
   "metadata": {},
   "outputs": [],
   "source": []
  },
  {
   "cell_type": "code",
   "execution_count": 44,
   "id": "d89a6fca",
   "metadata": {},
   "outputs": [
    {
     "name": "stdout",
     "output_type": "stream",
     "text": [
      "predictions ==>  <generator object Estimator.predict at 0x000001B28FA978B0>\n",
      "INFO:tensorflow:Calling model_fn.\n",
      "INFO:tensorflow:Done calling model_fn.\n",
      "INFO:tensorflow:Graph was finalized.\n",
      "INFO:tensorflow:Restoring parameters from C:\\Users\\santa\\AppData\\Local\\Temp\\tmpnzs1tzbe\\model.ckpt-5000\n",
      "INFO:tensorflow:Running local_init_op.\n",
      "INFO:tensorflow:Done running local_init_op.\n",
      "Prediction is \"Setosa\" (82.6%)\n",
      "each {'logits': array([ 1.2872719, -0.637942 , -1.4589121], dtype=float32), 'probabilities': array([0.8264348 , 0.12053102, 0.05303421], dtype=float32), 'class_ids': array([0], dtype=int64), 'classes': array([b'0'], dtype=object), 'all_class_ids': array([0, 1, 2]), 'all_classes': array([b'0', b'1', b'2'], dtype=object)}\n",
      "predictions ==>  <generator object Estimator.predict at 0x000001B28FA978B0>\n",
      "predictions ==>  []\n"
     ]
    }
   ],
   "source": [
    "\n",
    "predictions = classifierModel.predict(input_fn=lambda: input_fn(predict))\n",
    "print('predictions ==> ', predictions)\n",
    "\n",
    "for each in predictions:\n",
    "    varclass_id = each['class_ids'][0] \n",
    "    probability = each['probabilities'][varclass_id]\n",
    "\n",
    "    print('Prediction is \"{}\" ({:.1f}%)'.format(SPECIES[varclass_id], 100*probability))\n",
    "    print('each',each)\n",
    "\n",
    "    \n",
    "print('predictions ==> ', predictions)\n",
    "print('predictions ==> ', list(predictions))\n",
    "    \n",
    "# print('varclass_id ==>', varclass_id, '\\n')\n",
    "# print('probability ==>', probability, '\\n')\n",
    "# print('each ==>', each, '\\n')"
   ]
  },
  {
   "cell_type": "code",
   "execution_count": 46,
   "id": "07cd4d94",
   "metadata": {},
   "outputs": [
    {
     "name": "stdout",
     "output_type": "stream",
     "text": [
      "Please type the numeric values as prompted\n",
      "SepalLength: 6.9\n",
      "SepalWidth: 3.1\n",
      "PetalLength: 5.4\n",
      "PetalWidth: 2.1\n",
      "predict ==>  {'SepalLength': [6.9], 'SepalWidth': [3.1], 'PetalLength': [5.4], 'PetalWidth': [2.1]}\n",
      "predictions ==>  <generator object Estimator.predict at 0x000001B28FA951C0>\n",
      "INFO:tensorflow:Calling model_fn.\n",
      "INFO:tensorflow:Done calling model_fn.\n",
      "INFO:tensorflow:Graph was finalized.\n",
      "INFO:tensorflow:Restoring parameters from C:\\Users\\santa\\AppData\\Local\\Temp\\tmpnzs1tzbe\\model.ckpt-5000\n",
      "INFO:tensorflow:Running local_init_op.\n",
      "INFO:tensorflow:Done running local_init_op.\n",
      "Prediction is \"Virginica\" (61.6%)\n",
      "each {'logits': array([-2.4135962 ,  0.17504895,  0.7190874 ], dtype=float32), 'probabilities': array([0.02684768, 0.35738885, 0.6157635 ], dtype=float32), 'class_ids': array([2], dtype=int64), 'classes': array([b'2'], dtype=object), 'all_class_ids': array([0, 1, 2]), 'all_classes': array([b'0', b'1', b'2'], dtype=object)}\n",
      "predictions ==>  <generator object Estimator.predict at 0x000001B28FA951C0>\n",
      "predictions ==>  {}\n"
     ]
    }
   ],
   "source": [
    "features = ['SepalLength', 'SepalWidth', 'PetalLength', 'PetalWidth']\n",
    "predict = {}\n",
    "\n",
    "print(\"Please type the numeric values as prompted\")\n",
    "for each in features:\n",
    "    valid = True\n",
    "    while valid:\n",
    "        val = input(each + \": \")\n",
    "        if not val.isdigit():\n",
    "            valid = False\n",
    "\n",
    "    predict[each] = [float(val)]\n",
    "    \n",
    "print('predict ==> ', predict)\n",
    "\n",
    "\n",
    "predictions = classifierModel.predict(input_fn=lambda: input_fn(predict))\n",
    "print('predictions ==> ', predictions)\n",
    "\n",
    "for each in predictions:\n",
    "    varclass_id = each['class_ids'][0] \n",
    "    probability = each['probabilities'][varclass_id]\n",
    "\n",
    "    print('Prediction is \"{}\" ({:.1f}%)'.format(SPECIES[varclass_id], 100*probability))\n",
    "    print('each',each)\n",
    "\n",
    "    \n",
    "print('predictions ==> ', predictions)\n",
    "print('predictions ==> ', dict(predictions))\n",
    "    "
   ]
  },
  {
   "cell_type": "code",
   "execution_count": 45,
   "id": "09d4f432",
   "metadata": {},
   "outputs": [
    {
     "name": "stdout",
     "output_type": "stream",
     "text": [
      "Please type the numeric values as prompted\n",
      "SepalLength: 5.9\n",
      "SepalWidth: 3.0\n",
      "PetalLength: 4.2\n",
      "PetalWidth: 1.5\n",
      "predict ==>  {'SepalLength': [5.9], 'SepalWidth': [3.0], 'PetalLength': [4.2], 'PetalWidth': [1.5]}\n",
      "predictions ==>  <generator object Estimator.predict at 0x000001B28F241540>\n",
      "INFO:tensorflow:Calling model_fn.\n",
      "INFO:tensorflow:Done calling model_fn.\n",
      "INFO:tensorflow:Graph was finalized.\n",
      "INFO:tensorflow:Restoring parameters from C:\\Users\\santa\\AppData\\Local\\Temp\\tmpnzs1tzbe\\model.ckpt-5000\n",
      "INFO:tensorflow:Running local_init_op.\n",
      "INFO:tensorflow:Done running local_init_op.\n",
      "Prediction is \"Versicolor\" (46.0%)\n",
      "each {'logits': array([-1.509228  ,  0.05965322,  0.02507008], dtype=float32), 'probabilities': array([0.09579147, 0.45992106, 0.44428742], dtype=float32), 'class_ids': array([1], dtype=int64), 'classes': array([b'1'], dtype=object), 'all_class_ids': array([0, 1, 2]), 'all_classes': array([b'0', b'1', b'2'], dtype=object)}\n",
      "predictions ==>  <generator object Estimator.predict at 0x000001B28F241540>\n",
      "predictions ==>  {}\n"
     ]
    }
   ],
   "source": [
    "features = ['SepalLength', 'SepalWidth', 'PetalLength', 'PetalWidth']\n",
    "predict = {}\n",
    "\n",
    "print(\"Please type the numeric values as prompted\")\n",
    "for each in features:\n",
    "    valid = True\n",
    "    while valid:\n",
    "        val = input(each + \": \")\n",
    "        if not val.isdigit():\n",
    "            valid = False\n",
    "\n",
    "    predict[each] = [float(val)]\n",
    "    \n",
    "print('predict ==> ', predict)\n",
    "\n",
    "\n",
    "predictions = classifierModel.predict(input_fn=lambda: input_fn(predict))\n",
    "print('predictions ==> ', predictions)\n",
    "\n",
    "for each in predictions:\n",
    "    varclass_id = each['class_ids'][0] \n",
    "    probability = each['probabilities'][varclass_id]\n",
    "\n",
    "    print('Prediction is \"{}\" ({:.1f}%)'.format(SPECIES[varclass_id], 100*probability))\n",
    "    print('each',each)\n",
    "\n",
    "    \n",
    "\n"
   ]
  },
  {
   "attachments": {
    "image.png": {
     "image/png": "[encoded data removed]"
    }
   },
   "cell_type": "markdown",
   "id": "e35ca9d2",
   "metadata": {},
   "source": [
    "![image.png](attachment:image.png)"
   ]
  },
  {
   "cell_type": "code",
   "execution_count": null,
   "id": "eb633125",
   "metadata": {},
   "outputs": [],
   "source": []
  }
 ],
 "metadata": {
  "kernelspec": {
   "display_name": "Python 3 (ipykernel)",
   "language": "python",
   "name": "python3"
  },
  "language_info": {
   "codemirror_mode": {
    "name": "ipython",
    "version": 3
   },
   "file_extension": ".py",
   "mimetype": "text/x-python",
   "name": "python",
   "nbconvert_exporter": "python",
   "pygments_lexer": "ipython3",
   "version": "3.10.0"
  }
 },
 "nbformat": 4,
 "nbformat_minor": 5
}
