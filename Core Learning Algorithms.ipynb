{
 "cells": [
  {
   "cell_type": "code",
   "execution_count": 1,
   "id": "9683fce6",
   "metadata": {},
   "outputs": [],
   "source": [
    "from __future__ import absolute_import, division, print_function, unicode_literals\n",
    "\n",
    "import numpy as np\n",
    "import pandas as pd\n",
    "import matplotlib.pyplot as plt\n",
    "from IPython.display import clear_output\n",
    "from six.moves import urllib\n",
    "\n",
    "import tensorflow.compat.v2.feature_column as fc\n",
    "\n",
    "import tensorflow as tf"
   ]
  },
  {
   "cell_type": "markdown",
   "id": "57ba49fe",
   "metadata": {},
   "source": [
    "#### Data\n",
    "A major part of machine learning is data! In fact, it is so important that most of what we do is focus on exloring, cleaning and selecting the appropriate data.\n",
    "The dataset we will be using is the titanic dataset, with tons of information about each passengeron the ship. the first step is to understand the data and explore it. off we go."
   ]
  },
  {
   "cell_type": "code",
   "execution_count": 39,
   "id": "8f612d43",
   "metadata": {},
   "outputs": [
    {
     "name": "stdout",
     "output_type": "stream",
     "text": [
      "   survived     sex   age  n_siblings_spouses  parch     fare   class  \\\n",
      "0         0    male  22.0                   1      0   7.2500   Third   \n",
      "1         1  female  38.0                   1      0  71.2833   First   \n",
      "2         1  female  26.0                   0      0   7.9250   Third   \n",
      "3         1  female  35.0                   1      0  53.1000   First   \n",
      "4         0    male  28.0                   0      0   8.4583   Third   \n",
      "5         0    male   2.0                   3      1  21.0750   Third   \n",
      "6         1  female  27.0                   0      2  11.1333   Third   \n",
      "7         1  female  14.0                   1      0  30.0708  Second   \n",
      "8         1  female   4.0                   1      1  16.7000   Third   \n",
      "9         0    male  20.0                   0      0   8.0500   Third   \n",
      "\n",
      "      deck  embark_town alone  \n",
      "0  unknown  Southampton     n  \n",
      "1        C    Cherbourg     n  \n",
      "2  unknown  Southampton     y  \n",
      "3        C  Southampton     n  \n",
      "4  unknown   Queenstown     y  \n",
      "5  unknown  Southampton     n  \n",
      "6  unknown  Southampton     n  \n",
      "7  unknown    Cherbourg     n  \n",
      "8        G  Southampton     n  \n",
      "9  unknown  Southampton     y  \n",
      "   survived     sex   age  n_siblings_spouses  parch     fare   class  \\\n",
      "0         0    male  35.0                   0      0   8.0500   Third   \n",
      "1         0    male  54.0                   0      0  51.8625   First   \n",
      "2         1  female  58.0                   0      0  26.5500   First   \n",
      "3         1  female  55.0                   0      0  16.0000  Second   \n",
      "4         1    male  34.0                   0      0  13.0000  Second   \n",
      "5         1  female  15.0                   0      0   8.0292   Third   \n",
      "6         0  female   8.0                   3      1  21.0750   Third   \n",
      "7         0    male  21.0                   0      0   8.0500   Third   \n",
      "8         0  female  18.0                   2      0  18.0000   Third   \n",
      "9         1  female  19.0                   0      0   7.8792   Third   \n",
      "\n",
      "      deck  embark_town alone  \n",
      "0  unknown  Southampton     y  \n",
      "1        E  Southampton     y  \n",
      "2        C  Southampton     y  \n",
      "3  unknown  Southampton     y  \n",
      "4        D  Southampton     y  \n",
      "5  unknown   Queenstown     y  \n",
      "6  unknown  Southampton     n  \n",
      "7  unknown  Southampton     y  \n",
      "8  unknown  Southampton     n  \n",
      "9  unknown   Queenstown     y  \n"
     ]
    }
   ],
   "source": [
    "dftrain = pd.read_csv('../Techwithtim TensorFlow/train.csv') #training data\n",
    "print(dftrain[:10])\n",
    "dfeval = pd.read_csv('../Techwithtim TensorFlow/eval.csv')  # evaluationdata for comparison\n",
    "print(dfeval[:10])\n",
    "\n",
    "ytrain =dftrain.pop('survived') #pops off the survived col of dftrain and stores in ytrain\n",
    "yeval = dfeval.pop('survived')  #pops off the survived col of dfeval and stores in ytrain"
   ]
  },
  {
   "cell_type": "code",
   "execution_count": 14,
   "id": "4a3affdf",
   "metadata": {},
   "outputs": [
    {
     "name": "stdout",
     "output_type": "stream",
     "text": [
      "      sex   age  n_siblings_spouses  parch     fare  class     deck  \\\n",
      "0    male  22.0                   1      0   7.2500  Third  unknown   \n",
      "1  female  38.0                   1      0  71.2833  First        C   \n",
      "2  female  26.0                   0      0   7.9250  Third  unknown   \n",
      "3  female  35.0                   1      0  53.1000  First        C   \n",
      "4    male  28.0                   0      0   8.4583  Third  unknown   \n",
      "\n",
      "   embark_town alone  \n",
      "0  Southampton     n  \n",
      "1    Cherbourg     n  \n",
      "2  Southampton     y  \n",
      "3  Southampton     n  \n",
      "4   Queenstown     y  \n",
      "      sex   age  n_siblings_spouses  parch     fare   class     deck  \\\n",
      "0    male  35.0                   0      0   8.0500   Third  unknown   \n",
      "1    male  54.0                   0      0  51.8625   First        E   \n",
      "2  female  58.0                   0      0  26.5500   First        C   \n",
      "3  female  55.0                   0      0  16.0000  Second  unknown   \n",
      "4    male  34.0                   0      0  13.0000  Second        D   \n",
      "\n",
      "   embark_town alone  \n",
      "0  Southampton     y  \n",
      "1  Southampton     y  \n",
      "2  Southampton     y  \n",
      "3  Southampton     y  \n",
      "4  Southampton     y  \n",
      "===================================================================================\n",
      "====================================================================================\n",
      "0    0\n",
      "1    1\n",
      "2    1\n",
      "3    1\n",
      "4    0\n",
      "Name: survived, dtype: int64\n",
      "0    0\n",
      "1    0\n",
      "2    1\n",
      "3    1\n",
      "4    1\n",
      "Name: survived, dtype: int64\n"
     ]
    }
   ],
   "source": [
    "print(dftrain.head())#print first 5 rows...with survived sect popped off...\n",
    "print(dfeval.head())\n",
    "print('===================================================================================\\n====================================================================================');\n",
    "print(ytrain.head())#print first 5 rows..\n",
    "print(yeval.head())"
   ]
  },
  {
   "cell_type": "code",
   "execution_count": 15,
   "id": "52451072",
   "metadata": {},
   "outputs": [
    {
     "name": "stdout",
     "output_type": "stream",
     "text": [
      "              age  n_siblings_spouses       parch        fare\n",
      "count  627.000000          627.000000  627.000000  627.000000\n",
      "mean    29.631308            0.545455    0.379585   34.385399\n",
      "std     12.511818            1.151090    0.792999   54.597730\n",
      "min      0.750000            0.000000    0.000000    0.000000\n",
      "25%     23.000000            0.000000    0.000000    7.895800\n",
      "50%     28.000000            0.000000    0.000000   15.045800\n",
      "75%     35.000000            1.000000    0.000000   31.387500\n",
      "max     80.000000            8.000000    5.000000  512.329200\n"
     ]
    }
   ],
   "source": [
    "print(dftrain.describe()) #give metadata about our data"
   ]
  },
  {
   "cell_type": "code",
   "execution_count": 16,
   "id": "8d9c8553",
   "metadata": {},
   "outputs": [
    {
     "name": "stdout",
     "output_type": "stream",
     "text": [
      "(627, 9)\n"
     ]
    }
   ],
   "source": [
    "print(dftrain.shape)#should return number of rows by cols"
   ]
  },
  {
   "cell_type": "markdown",
   "id": "a99d5d74",
   "metadata": {},
   "source": [
    "### Graphing the data"
   ]
  },
  {
   "cell_type": "code",
   "execution_count": 18,
   "id": "76c3ecc5",
   "metadata": {},
   "outputs": [
    {
     "data": {
      "text/plain": [
       "<AxesSubplot:>"
      ]
     },
     "execution_count": 18,
     "metadata": {},
     "output_type": "execute_result"
    },
    {
     "data": {
      "image/png": "[encoded data removed]",
      "text/plain": [
       "<Figure size 432x288 with 1 Axes>"
      ]
     },
     "metadata": {
      "needs_background": "light"
     },
     "output_type": "display_data"
    }
   ],
   "source": [
    "dftrain['age'].hist()\n",
    "dftrain.age.hist(bins = 20) #dudes rendition"
   ]
  },
  {
   "cell_type": "code",
   "execution_count": 27,
   "id": "751acd5c",
   "metadata": {},
   "outputs": [
    {
     "data": {
      "text/plain": [
       "<AxesSubplot:>"
      ]
     },
     "execution_count": 27,
     "metadata": {},
     "output_type": "execute_result"
    },
    {
     "data": {
      "image/png": "[encoded data removed]",
      "text/plain": [
       "<Figure size 432x288 with 1 Axes>"
      ]
     },
     "metadata": {
      "needs_background": "light"
     },
     "output_type": "display_data"
    }
   ],
   "source": [
    "dftrain['sex'].value_counts().plot(kind = 'barh')\n",
    "# sex a non numeric field hence the need for value_counts method, which counts the num of male and\n",
    "# female and horizontally graphs it out...i tried it and got a non numeric type err."
   ]
  },
  {
   "cell_type": "code",
   "execution_count": 31,
   "id": "76a05df7",
   "metadata": {},
   "outputs": [
    {
     "data": {
      "text/plain": [
       "<AxesSubplot:>"
      ]
     },
     "execution_count": 31,
     "metadata": {},
     "output_type": "execute_result"
    },
    {
     "data": {
      "image/png": "[encoded data removed]",
      "text/plain": [
       "<Figure size 432x288 with 1 Axes>"
      ]
     },
     "metadata": {
      "needs_background": "light"
     },
     "output_type": "display_data"
    }
   ],
   "source": [
    "dftrain['class'].value_counts().plot(kind = 'bar')"
   ]
  },
  {
   "cell_type": "code",
   "execution_count": 40,
   "id": "3abf01a0",
   "metadata": {},
   "outputs": [
    {
     "data": {
      "text/plain": [
       "Text(0.5, 0, '% survive')"
      ]
     },
     "execution_count": 40,
     "metadata": {},
     "output_type": "execute_result"
    },
    {
     "data": {
      "image/png": "[encoded data removed]",
      "text/plain": [
       "<Figure size 432x288 with 1 Axes>"
      ]
     },
     "metadata": {
      "needs_background": "light"
     },
     "output_type": "display_data"
    }
   ],
   "source": [
    "pd.concat([dftrain, ytrain], axis = 1).groupby('sex').survived.mean().plot(kind = 'barh').set_xlabel('% survive')"
   ]
  },
  {
   "cell_type": "markdown",
   "id": "f03dae03",
   "metadata": {},
   "source": [
    "dunno what the fuck tis pd.concat does, but it seems to append df train to ytrain and group rows by sexes. we then calc the mean of the survived fields for each sex adn chart it in our graph, then add the label of survival rate."
   ]
  },
  {
   "cell_type": "code",
   "execution_count": 38,
   "id": "468f2942",
   "metadata": {},
   "outputs": [
    {
     "name": "stdout",
     "output_type": "stream",
     "text": [
      "sex\n",
      "female    0.778802\n",
      "male      0.180488\n",
      "Name: survived, dtype: float64\n"
     ]
    }
   ],
   "source": [
    "mydftrain = pd.read_csv('../Techwithtim TensorFlow/train.csv') #training data\n",
    "# print(dftrain.head())\n",
    "sexdftrain = dftrain.groupby('sex').survived.mean()\n",
    "print(sexdftrain.head()) #from here we see females have a higher chance of survival "
   ]
  },
  {
   "cell_type": "code",
   "execution_count": 41,
   "id": "6ba9f0e0",
   "metadata": {},
   "outputs": [
    {
     "data": {
      "text/plain": [
       "(264, 9)"
      ]
     },
     "execution_count": 41,
     "metadata": {},
     "output_type": "execute_result"
    }
   ],
   "source": [
    "dfeval.shape #size of the test dataset is less than that of the training data\n"
   ]
  },
  {
   "cell_type": "code",
   "execution_count": 50,
   "id": "cc6d17a0",
   "metadata": {},
   "outputs": [
    {
     "name": "stdout",
     "output_type": "stream",
     "text": [
      "['male' 'female']\n",
      "===================================================================================\n",
      "====================================================================================\n",
      "[22.   38.   26.   35.   28.    2.   27.   14.    4.   20.   39.   31.\n",
      " 19.   40.   66.   42.    3.   18.    7.   49.   29.   65.   21.   28.5\n",
      " 11.   45.   17.   32.   25.    0.83 30.   16.   23.   24.   46.   59.\n",
      " 71.   34.   33.   37.   47.   14.5  70.5  32.5   9.   51.   55.5  40.5\n",
      " 44.    1.   50.   36.   58.   20.5  41.   63.   43.   61.   15.   60.\n",
      " 64.    5.   52.   48.   56.    0.75 54.   62.   53.   57.   80.    6.\n",
      " 70.   30.5  10.   34.5 ]\n",
      "===================================================================================\n",
      "====================================================================================\n",
      "[1 0 3 4 2 5 8]\n",
      "===================================================================================\n",
      "====================================================================================\n",
      "[0 1 2 5 3 4]\n",
      "===================================================================================\n",
      "====================================================================================\n",
      "['Third' 'First' 'Second']\n",
      "===================================================================================\n",
      "====================================================================================\n",
      "['unknown' 'C' 'G' 'A' 'B' 'D' 'F' 'E']\n",
      "===================================================================================\n",
      "====================================================================================\n",
      "['Southampton' 'Cherbourg' 'Queenstown' 'unknown']\n",
      "===================================================================================\n",
      "====================================================================================\n",
      "['n' 'y']\n",
      "===================================================================================\n",
      "====================================================================================\n",
      "[  7.25    71.2833   7.925   53.1      8.4583  21.075   11.1333  30.0708\n",
      "  16.7      8.05    31.275    7.8542  29.125   13.      18.       7.225\n",
      "  26.      35.5     31.3875 263.       7.8792   7.8958  27.7208 146.5208\n",
      "   7.75    10.5     82.1708  52.       7.2292  11.2417   9.475   21.\n",
      "  41.5792  15.5     21.6792  17.8     39.6875  76.7292  61.9792  46.9\n",
      "  80.      83.475   27.9     15.2458   8.1583   8.6625  73.5     56.4958\n",
      "   7.65    29.      12.475    9.       9.5      7.7875  47.1     34.375\n",
      "  61.175   34.6542  63.3583  23.      77.2875   8.6542   7.775   24.15\n",
      "  14.4542  14.4583 247.5208   7.1417   6.975    7.05    14.5     15.0458\n",
      "  26.2833   9.2167  79.2      6.75    11.5     12.525    7.3125  61.3792\n",
      "   7.7333  69.55    16.1     55.      25.4667  28.7125   0.      15.05\n",
      "  22.025   26.55     6.4958  10.4625  15.85    18.7875  31.     113.275\n",
      "  27.       9.35    13.5      7.55    12.275    7.125   90.      20.2125\n",
      " 512.3292 153.4625 135.6333  19.5     29.7     77.9583  20.25    78.85\n",
      "  12.875   30.5     12.35   110.8833 108.9     24.      56.9292  83.1583\n",
      " 262.375   26.25   164.8667 134.5      6.2375  20.525   23.25   133.65\n",
      "  66.6     75.25    69.3    211.5    227.525    7.7292  12.     120.\n",
      "   7.7958  18.75     6.8583  32.5     55.9      8.1125  19.2583  27.75\n",
      "  89.1042  51.8625  38.5      7.725   13.7917   7.0458  12.2875   9.5875\n",
      "  91.0792  15.9     19.9667  49.5042 151.55    59.4      7.4958  34.0208\n",
      "  93.5     57.9792 221.7792  22.3583 106.425   49.5     71.      13.8625\n",
      "   7.8292  39.6     79.65    17.4     51.4792  26.3875  30.      40.125\n",
      "  15.      78.2667  33.      15.55    65.      14.4     15.7417  32.3208\n",
      "   7.0542   8.4333  25.5875  39.       9.8417   9.225   10.1708 211.3375\n",
      "  57.      13.4167  26.2875   7.7417   9.4833   8.3625  23.45    20.575\n",
      "  30.6958  25.9292   8.6833   7.8875  37.0042   6.95     8.3      6.4375\n",
      "  39.4     14.1083  13.8583  50.4958  52.5542   5.       9.8458  10.5167]\n"
     ]
    }
   ],
   "source": [
    "print(dftrain['sex'].unique())\n",
    "print('===================================================================================\\n====================================================================================');\n",
    "\n",
    "print(dftrain['age'].unique())\n",
    "print('===================================================================================\\n====================================================================================');\n",
    "\n",
    "print(dftrain['n_siblings_spouses'].unique())\n",
    "print('===================================================================================\\n====================================================================================');\n",
    "\n",
    "print(dftrain['parch'].unique())\n",
    "\n",
    "print('===================================================================================\\n====================================================================================');\n",
    "\n",
    "print(dftrain['class'].unique())\n",
    "print('===================================================================================\\n====================================================================================');\n",
    "\n",
    "print(dftrain['deck'].unique())\n",
    "print('===================================================================================\\n====================================================================================');\n",
    "\n",
    "print(dftrain['embark_town'].unique())\n",
    "print('===================================================================================\\n====================================================================================');\n",
    "\n",
    "print(dftrain['alone'].unique())\n",
    "print('===================================================================================\\n====================================================================================');\n",
    "\n",
    "print(dftrain['fare'].unique())"
   ]
  },
  {
   "cell_type": "code",
   "execution_count": 44,
   "id": "f7531a2f",
   "metadata": {},
   "outputs": [
    {
     "name": "stdout",
     "output_type": "stream",
     "text": [
      "      sex   age  n_siblings_spouses  parch     fare  class     deck  \\\n",
      "0    male  22.0                   1      0   7.2500  Third  unknown   \n",
      "1  female  38.0                   1      0  71.2833  First        C   \n",
      "2  female  26.0                   0      0   7.9250  Third  unknown   \n",
      "3  female  35.0                   1      0  53.1000  First        C   \n",
      "4    male  28.0                   0      0   8.4583  Third  unknown   \n",
      "\n",
      "   embark_town alone  \n",
      "0  Southampton     n  \n",
      "1    Cherbourg     n  \n",
      "2  Southampton     y  \n",
      "3  Southampton     n  \n",
      "4   Queenstown     y  \n"
     ]
    }
   ],
   "source": [
    "print(dftrain.head())"
   ]
  },
  {
   "cell_type": "code",
   "execution_count": null,
   "id": "796f78a0",
   "metadata": {},
   "outputs": [],
   "source": []
  }
 ],
 "metadata": {
  "kernelspec": {
   "display_name": "Python 3 (ipykernel)",
   "language": "python",
   "name": "python3"
  },
  "language_info": {
   "codemirror_mode": {
    "name": "ipython",
    "version": 3
   },
   "file_extension": ".py",
   "mimetype": "text/x-python",
   "name": "python",
   "nbconvert_exporter": "python",
   "pygments_lexer": "ipython3",
   "version": "3.10.0"
  }
 },
 "nbformat": 4,
 "nbformat_minor": 5
}
