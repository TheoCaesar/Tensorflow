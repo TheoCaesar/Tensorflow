{
 "cells": [
  {
   "cell_type": "code",
   "execution_count": 5,
   "id": "70749355",
   "metadata": {},
   "outputs": [
    {
     "name": "stdout",
     "output_type": "stream",
     "text": [
      "<module 'tensorflow._api.v2.version' from 'C:\\\\Users\\\\santa\\\\AppData\\\\Local\\\\Programs\\\\Python\\\\Python310\\\\lib\\\\site-packages\\\\tensorflow\\\\_api\\\\v2\\\\version\\\\__init__.py'>\n"
     ]
    }
   ],
   "source": [
    "import tensorflow as tf\n",
    "print(tf.version)"
   ]
  },
  {
   "cell_type": "markdown",
   "id": "1b45021c",
   "metadata": {},
   "source": [
    "# CREATING TENSORS"
   ]
  },
  {
   "cell_type": "markdown",
   "id": "53358053",
   "metadata": {},
   "source": [
    "1. 1 DIMENTSIONAL TENSORS: these are single digits and can be referred to a scalars or rank 0 tensors. Rank 0 because of the computers zero index counting i will guess. we will see these when we get to checking the ranks and degrees of tensors."
   ]
  },
  {
   "cell_type": "code",
   "execution_count": 20,
   "id": "459c9f65",
   "metadata": {},
   "outputs": [],
   "source": [
    "myname = tf.Variable('Theo Caesar', tf.string)\n",
    "myage = tf.Variable(48, tf.int32) #INT8, 16,32, 64\n",
    "myheight = tf.Variable(5.10, tf.float64) #FLOAT 32, 64"
   ]
  },
  {
   "cell_type": "code",
   "execution_count": 21,
   "id": "714cad13",
   "metadata": {},
   "outputs": [],
   "source": [
    "name = tf.Variable(['Theophilus', 'Ofoe', 'Caesar'],tf.string) #3 values in 1d-1 array with 3vals \n",
    "#which can add to any time and not affect the dimension of the tensor\n",
    "\n",
    "fullname = tf.Variable([['Theo'], ['Caesar']], tf.string) #single values in two dim tensors--we can\n",
    "# still add to these nested lists any number of strings seperated by commas and still not alter\n",
    "# the dim of our fullname tensor-until we add another nested list. NB: size of both nested list \n",
    "# should be equal at all times\n",
    "\n",
    "ournames = tf.Variable([['Theo', 'Ofoe', 'Caesar'], #three values in 3 dim tensors\n",
    "                        ['Bryan', 'OO Borbor', 'Caesar'], \n",
    "                        ['Ezekiel', 'Alamu', 'Caesar']          \n",
    "                       ] , tf.string)"
   ]
  },
  {
   "cell_type": "markdown",
   "id": "10fbfa5c",
   "metadata": {},
   "source": [
    "### Rank/Degree of tensors: this refers to the num of dimensions in a tensor. as stated earlier, the above code is a rank 0 tensor known as scalar as it has just a single dimension."
   ]
  },
  {
   "cell_type": "code",
   "execution_count": 22,
   "id": "89ab7d61",
   "metadata": {},
   "outputs": [
    {
     "data": {
      "text/plain": [
       "<tf.Tensor: shape=(), dtype=int32, numpy=0>"
      ]
     },
     "execution_count": 22,
     "metadata": {},
     "output_type": "execute_result"
    }
   ],
   "source": [
    "tf.rank(myname)#should return 0--hack:we have no array\n"
   ]
  },
  {
   "cell_type": "code",
   "execution_count": 23,
   "id": "d79c6a48",
   "metadata": {},
   "outputs": [
    {
     "data": {
      "text/plain": [
       "<tf.Tensor: shape=(), dtype=int32, numpy=1>"
      ]
     },
     "execution_count": 23,
     "metadata": {},
     "output_type": "execute_result"
    }
   ],
   "source": [
    "tf.rank(name)#should return 1--hack:we have 1 array\n"
   ]
  },
  {
   "cell_type": "code",
   "execution_count": 24,
   "id": "ca49b5a4",
   "metadata": {},
   "outputs": [
    {
     "data": {
      "text/plain": [
       "<tf.Tensor: shape=(), dtype=int32, numpy=2>"
      ]
     },
     "execution_count": 24,
     "metadata": {},
     "output_type": "execute_result"
    }
   ],
   "source": [
    "tf.rank(fullname)#should return 2--hack:we have 2 nested arrays\n"
   ]
  },
  {
   "cell_type": "code",
   "execution_count": 25,
   "id": "719273e9",
   "metadata": {},
   "outputs": [
    {
     "data": {
      "text/plain": [
       "<tf.Tensor: shape=(), dtype=int32, numpy=2>"
      ]
     },
     "execution_count": 25,
     "metadata": {},
     "output_type": "execute_result"
    }
   ],
   "source": [
    "tf.rank(ournames)#should return 3--hack:we've 3 nested arrays however it only returned 2; perhaps its cap"
   ]
  },
  {
   "cell_type": "markdown",
   "id": "24a22309",
   "metadata": {},
   "source": [
    "# Shape of a tensor: applied as an attribute to a tensor"
   ]
  },
  {
   "cell_type": "code",
   "execution_count": 26,
   "id": "68e1f067",
   "metadata": {},
   "outputs": [
    {
     "data": {
      "text/plain": [
       "TensorShape([])"
      ]
     },
     "execution_count": 26,
     "metadata": {},
     "output_type": "execute_result"
    }
   ],
   "source": [
    "myname.shape #zero dim with no arrays"
   ]
  },
  {
   "cell_type": "code",
   "execution_count": 27,
   "id": "449fa09e",
   "metadata": {},
   "outputs": [
    {
     "data": {
      "text/plain": [
       "TensorShape([3])"
      ]
     },
     "execution_count": 27,
     "metadata": {},
     "output_type": "execute_result"
    }
   ],
   "source": [
    "name.shape #1dim array with 3 names(data)"
   ]
  },
  {
   "cell_type": "code",
   "execution_count": 28,
   "id": "9a0909c0",
   "metadata": {},
   "outputs": [
    {
     "data": {
      "text/plain": [
       "TensorShape([2, 1])"
      ]
     },
     "execution_count": 28,
     "metadata": {},
     "output_type": "execute_result"
    }
   ],
   "source": [
    "fullname.shape #2dim array with 1 name in each"
   ]
  },
  {
   "cell_type": "code",
   "execution_count": 29,
   "id": "83b222cb",
   "metadata": {},
   "outputs": [
    {
     "data": {
      "text/plain": [
       "TensorShape([3, 3])"
      ]
     },
     "execution_count": 29,
     "metadata": {},
     "output_type": "execute_result"
    }
   ],
   "source": [
    "ournames.shape #3dim array with 3 names in each...mais rank is cappeed at 2"
   ]
  },
  {
   "cell_type": "markdown",
   "id": "ffa00f2a",
   "metadata": {},
   "source": [
    "### Reshaping Tensors\n",
    "the number of elements in a tensor is eqult to the product fo the sizes of all its shapes. there are often many shapes that have the same number of elements, making it convenient to be able to change tensor shape."
   ]
  },
  {
   "cell_type": "code",
   "execution_count": 30,
   "id": "f78fef89",
   "metadata": {},
   "outputs": [],
   "source": [
    "mytensor = tf.ones([1,2,3]) # ones method creates a shape of the passed array value full of ones as nums in \n",
    "                            #the shape 1 array, with 2 nested array with 3 values in each nesteed array\n",
    "    \n",
    "mytensorV2 = tf.reshape(mytensor, [2, 3, 1])#, reshape my tensor into 2 arrays/lists with 3 nested arrays\n",
    "                                            # or list of 1 digit only\n",
    "    \n",
    "mytensorV3 = tf.reshape(mytensorV2, [3, -1]) # neg 1 makes sys infer what the dimension(nested list should be)\n",
    "\n",
    "# and remember the elements in a tensor should always be equal to the product of nums in our shape"
   ]
  },
  {
   "cell_type": "code",
   "execution_count": 33,
   "id": "3691ae9f",
   "metadata": {
    "scrolled": true
   },
   "outputs": [
    {
     "name": "stdout",
     "output_type": "stream",
     "text": [
      "mytensor ==> tf.Tensor(\n",
      "[[[1. 1. 1.]\n",
      "  [1. 1. 1.]]], shape=(1, 2, 3), dtype=float32) \n",
      "\n",
      "mytensor2  [2, 3, 1])==> tf.Tensor(\n",
      "[[[1.]\n",
      "  [1.]\n",
      "  [1.]]\n",
      "\n",
      " [[1.]\n",
      "  [1.]\n",
      "  [1.]]], shape=(2, 3, 1), dtype=float32) \n",
      "\n",
      "mytensor3 [3, -1]) ==> tf.Tensor(\n",
      "[[1. 1.]\n",
      " [1. 1.]\n",
      " [1. 1.]], shape=(3, 2), dtype=float32) \n",
      "\n"
     ]
    }
   ],
   "source": [
    "print('mytensor ==>',mytensor,'\\n')\n",
    "print('mytensor2  [2, 3, 1])==>',mytensorV2,'\\n')\n",
    "print('mytensor3 [3, -1]) ==>',mytensorV3,'\\n')"
   ]
  },
  {
   "cell_type": "code",
   "execution_count": null,
   "id": "335e5d59",
   "metadata": {},
   "outputs": [],
   "source": []
  }
 ],
 "metadata": {
  "kernelspec": {
   "display_name": "Python 3 (ipykernel)",
   "language": "python",
   "name": "python3"
  },
  "language_info": {
   "codemirror_mode": {
    "name": "ipython",
    "version": 3
   },
   "file_extension": ".py",
   "mimetype": "text/x-python",
   "name": "python",
   "nbconvert_exporter": "python",
   "pygments_lexer": "ipython3",
   "version": "3.10.0"
  }
 },
 "nbformat": 4,
 "nbformat_minor": 5
}
